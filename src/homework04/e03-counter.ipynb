{
 "cells": [
  {
   "cell_type": "markdown",
   "metadata": {},
   "source": [
    "## Exercise 3 ~ Modes of operation with counter"
   ]
  },
  {
   "cell_type": "code",
   "execution_count": 1,
   "metadata": {},
   "outputs": [],
   "source": [
    "import base64\n",
    "import socket\n",
    "import random"
   ]
  },
  {
   "cell_type": "code",
   "execution_count": 2,
   "metadata": {},
   "outputs": [],
   "source": [
    "# TEST PARAMETERS\n",
    "\"\"\"\n",
    "Sciper = 100000\n",
    "Np = 1147205641592137732\n",
    "C = \"ZErhBWw21V/QxpB5WHmH8ozodx2MfiLmuzh+lx3W7SbtC8OgutQ4vjKxKrJ5h9aKfjFpzwOH3u9LzcdQp+LhnhI2uA9kVxuDpMwJERsbH1FV1YlHHGLWrb0xxPKJ9Uvrf3KZXhzQGmDSOV9hhcUmdXtU5wz0IJcYrlFrKwISeOsvvWU8R3SVakCguf05LdBA20gIW7rhHnPWmtkZlCkbcWqhxiRDCwQZpOh1ZQ3rEKdiEKz9rD5AFfouh35UxNWmpl2Qvf7uDAsKtzO47v60duAaUDthQvCqPPeKxD/GbN2hyeDKEVtaThEE+8kpUU5+6gdpgwFyw+mlkwUuMh15FQ==\"\n",
    "\"\"\"; None"
   ]
  },
  {
   "cell_type": "code",
   "execution_count": 3,
   "metadata": {},
   "outputs": [],
   "source": [
    "# TEST ANSWER\n",
    "M = \"kHIimXeo/Rd720MZN/Ru8CtN24ngbJZex5SEt2kCJweBUq/KLqzoVbA0L4vEW7nYxEZUvM/8Fu0iTsg+dlGRRazwgpTMctbCJhd17w9WPLDn9+9y/meMEiR1gueZTO8HurpPUNVPede4OwLyWXN7pbAt7iXY4LXfewfwzb1UDFbAvwfLNkh5jt7xAEzxYUzp048P8vEAag6SbUZkaWOUXzhVSZWgIiqK2d+UUihqwHZl6soBdpe7yuSAo3lmLerrRtjRCSN+g/UvikkFdRBqwY4LToRcmsISvXKBDcCpNZl8weBw+0Ky5PLT6Yesnwg7tnSmT24m836XvUIcqzjdIg==\""
   ]
  },
  {
   "cell_type": "code",
   "execution_count": 4,
   "metadata": {},
   "outputs": [],
   "source": [
    "# REAL PARAMETERS\n",
    "Sciper = 247565\n",
    "Np = 6779987342390324900\n",
    "C = \"qKKJWQAd0R7P/6Lsu7VZX3stpycRqODxcNcTzl6GN4PHLECQkXWjiUwnYVl3JlwWXurjiwY09sJYPNtygb8uLX1ncvW2fLI2vNqyq9RbEPRjbI6NexxyUyd36uKAriOte+lHu3tEFEDsEGVrIJmZ7hYmSAh/U9K94WWaganI5E2RsVeeRQtA9mNVqv3Df2x9K+Rq7gNpbEQ0TkIryj9TI4J7hh3cuWlPQGvVkS9sxJQYizCToP/SZo+cTcr0tU9P/4MgcROcTzEKOmMfk9QkJHE8NATFSmJ781qrqJish9tm+yO5mg9SY3qhGVXX1reos8LDjhZORQnKkfhfuZOyjA==\""
   ]
  },
  {
   "cell_type": "code",
   "execution_count": 5,
   "metadata": {},
   "outputs": [],
   "source": [
    "def connect_server(server_name, port, message):\n",
    "    server = (server_name, int(port)) #calling int is required when using Sage\n",
    "    s = socket.create_connection(server)\n",
    "    s.send(message + \"\\n\")\n",
    "    response=\"\"\n",
    "    while True: #data might come in several packets, need to wait for all of it\n",
    "        data = s.recv(1024)\n",
    "        if len(data) == 0:\n",
    "            break\n",
    "        if data[-1] == '\\n': \n",
    "            response += data[:-1]  \n",
    "            break\n",
    "        response += data\n",
    "    s.close()\n",
    "    return response"
   ]
  },
  {
   "cell_type": "code",
   "execution_count": 6,
   "metadata": {},
   "outputs": [],
   "source": [
    "def encrypt(m):\n",
    "    while len(m) % 16 != 0:\n",
    "        m += '\\x00'\n",
    "    encoded_m =  base64.b64encode(m)\n",
    "    return base64.b64decode(connect_server(\"lasecpc25.epfl.ch\", 6666, str(Sciper) + \" \" + encoded_m).encode(\"ASCII\"))\n",
    "\n",
    "def encrypt_no_base64(m):\n",
    "    return connect_server(\"lasecpc25.epfl.ch\", 6666, str(Sciper) + \" \" + m)"
   ]
  },
  {
   "cell_type": "markdown",
   "metadata": {},
   "source": [
    "It would seem from the $Np$ value that the $AES-CTR*$ algorithm is used in the algorithm."
   ]
  },
  {
   "cell_type": "markdown",
   "metadata": {},
   "source": [
    "From the algorithm, it would seem like sending a string full of empty characters will give us:\n",
    "\n",
    "$AES(K, LitEnd(N \\textrm{ mod } 2^{64}) || BigEnd(N \\textrm{ mod } 2^{64}))$\n",
    "\n",
    "For two consecutive $N$s, the middle of V will be the same."
   ]
  },
  {
   "cell_type": "code",
   "execution_count": 7,
   "metadata": {},
   "outputs": [],
   "source": [
    "modes = [\"CBC*\", \"CTR*\", \"OFB*\", \"CFB*\"]\n",
    "\n",
    "def goToCBC():\n",
    "    ciphers = set()\n",
    "    ctr = 0\n",
    "    for _ in range(3):\n",
    "        for _ in range(4):\n",
    "            ciphers.add(encrypt_no_base64('AAAAAAAAAAAAAAAAAAAAAA=='))\n",
    "        for _ in range(8):\n",
    "            x = encrypt_no_base64('BAAAAAAAAAAAAAAAAAAABA==')\n",
    "            if x in ciphers:\n",
    "                # We have found CBC ! Now let's increment N by 3 to go back to CBC for the next query\n",
    "                encrypt_no_base64('AAAAAAAAAAAAAAAAAAAAAA==')\n",
    "                encrypt_no_base64('AAAAAAAAAAAAAAAAAAAAAA==')\n",
    "                encrypt_no_base64('AAAAAAAAAAAAAAAAAAAAAA==')\n",
    "                return"
   ]
  },
  {
   "cell_type": "markdown",
   "metadata": {},
   "source": [
    "Let's start with N=z\n",
    "\n",
    "```\n",
    "AES-CTR*(z, K, \"\\x00...\\x00\")\n",
    "= AES(K, (LitEnd(z) || BigEnd(z)))\n",
    "\n",
    "AES-OFB*(z+1, K, \"\\x00...\\x00\")\n",
    "= AES(K, (LitEnd(z+1) || BigEnd(z+1))) || AES(K, AES(K, (LitEnd(z+1) || BigEnd(z+1)))\n",
    "\n",
    "AES-CFB*(z+2, K, \"\\x00...\\x00\")\n",
    "= AES(K, (LitEnd(z+2) || BigEnd(z+2))) || AES(K, AES(K, (LitEnd(z+2) || BigEnd(z+2))))\n",
    "\n",
    "AES-CBC*(z+3, K, \"\\x00...\\x00\")\n",
    "= AES(K, (LitEnd(z+3) || BigEnd(z+3))) || AES(K, AES(K, (LitEnd(z+3) || BigEnd(z+3))))\n",
    "```"
   ]
  },
  {
   "cell_type": "markdown",
   "metadata": {},
   "source": [
    "Using CBC*, we can basically reset the input of AES to \"\" (without leaking the whole N), and input whatever we want (e.g. the values of LitEnd(N-i) || BigEnd(N+i) with N=Np."
   ]
  },
  {
   "cell_type": "code",
   "execution_count": 8,
   "metadata": {},
   "outputs": [],
   "source": [
    "# Get the big endian representation of a number\n",
    "def big_endian(n):\n",
    "    hex_representation = \"{0:0>16x}\".format(n)\n",
    "    hex_numbers = [int(hex_representation[2*i:2*(i+1)], 16) for i in range(8)]\n",
    "    return \"\".join(chr(k) for k in hex_numbers)\n",
    "\n",
    "# Get the little endian representation of a number\n",
    "def little_endian(n):\n",
    "    return big_endian(n)[::-1]"
   ]
  },
  {
   "cell_type": "code",
   "execution_count": 9,
   "metadata": {},
   "outputs": [],
   "source": [
    "def string(bits):\n",
    "    res = []\n",
    "    for b in [bits[8*i:8*(i+1)] for i in range(len(bits)/8)]:\n",
    "        res.append(chr(int(\"\".join([str(i) for i in b]), 2)))\n",
    "    return \"\".join(res)\n",
    "\n",
    "def bits(string):\n",
    "    return [[int(b) for b in \"{0:0>8b}\".format(ord(char))] for char in string]\n",
    "\n",
    "def xor(b1, b2):\n",
    "    return [b1[i] ^^ b2[i] for i in range(len(b1))]"
   ]
  },
  {
   "cell_type": "code",
   "execution_count": 10,
   "metadata": {},
   "outputs": [
    {
     "ename": "gaierror",
     "evalue": "[Errno -3] Temporary failure in name resolution",
     "output_type": "error",
     "traceback": [
      "\u001b[0;31m---------------------------------------------------------------------------\u001b[0m",
      "\u001b[0;31mgaierror\u001b[0m                                  Traceback (most recent call last)",
      "\u001b[0;32m<ipython-input-10-2c7906641194>\u001b[0m in \u001b[0;36m<module>\u001b[0;34m()\u001b[0m\n\u001b[1;32m      8\u001b[0m \u001b[0;34m\u001b[0m\u001b[0m\n\u001b[1;32m      9\u001b[0m \u001b[0;31m# We go to CBC mode (N % 8 = 3)\u001b[0m\u001b[0;34m\u001b[0m\u001b[0;34m\u001b[0m\u001b[0m\n\u001b[0;32m---> 10\u001b[0;31m \u001b[0mgoToCBC\u001b[0m\u001b[0;34m(\u001b[0m\u001b[0;34m)\u001b[0m\u001b[0;34m\u001b[0m\u001b[0m\n\u001b[0m\u001b[1;32m     11\u001b[0m \u001b[0mkeys_blocks\u001b[0m \u001b[0;34m=\u001b[0m \u001b[0;34m[\u001b[0m\u001b[0;34m]\u001b[0m\u001b[0;34m\u001b[0m\u001b[0m\n\u001b[1;32m     12\u001b[0m \u001b[0;32mfor\u001b[0m \u001b[0mb\u001b[0m \u001b[0;32min\u001b[0m \u001b[0mblocks\u001b[0m\u001b[0;34m:\u001b[0m\u001b[0;34m\u001b[0m\u001b[0m\n",
      "\u001b[0;32m<ipython-input-7-e0396b35eb07>\u001b[0m in \u001b[0;36mgoToCBC\u001b[0;34m()\u001b[0m\n\u001b[1;32m      6\u001b[0m     \u001b[0;32mfor\u001b[0m \u001b[0m_\u001b[0m \u001b[0;32min\u001b[0m \u001b[0mrange\u001b[0m\u001b[0;34m(\u001b[0m\u001b[0mInteger\u001b[0m\u001b[0;34m(\u001b[0m\u001b[0;36m3\u001b[0m\u001b[0;34m)\u001b[0m\u001b[0;34m)\u001b[0m\u001b[0;34m:\u001b[0m\u001b[0;34m\u001b[0m\u001b[0m\n\u001b[1;32m      7\u001b[0m         \u001b[0;32mfor\u001b[0m \u001b[0m_\u001b[0m \u001b[0;32min\u001b[0m \u001b[0mrange\u001b[0m\u001b[0;34m(\u001b[0m\u001b[0mInteger\u001b[0m\u001b[0;34m(\u001b[0m\u001b[0;36m4\u001b[0m\u001b[0;34m)\u001b[0m\u001b[0;34m)\u001b[0m\u001b[0;34m:\u001b[0m\u001b[0;34m\u001b[0m\u001b[0m\n\u001b[0;32m----> 8\u001b[0;31m             \u001b[0mciphers\u001b[0m\u001b[0;34m.\u001b[0m\u001b[0madd\u001b[0m\u001b[0;34m(\u001b[0m\u001b[0mencrypt_no_base64\u001b[0m\u001b[0;34m(\u001b[0m\u001b[0;34m'AAAAAAAAAAAAAAAAAAAAAA=='\u001b[0m\u001b[0;34m)\u001b[0m\u001b[0;34m)\u001b[0m\u001b[0;34m\u001b[0m\u001b[0m\n\u001b[0m\u001b[1;32m      9\u001b[0m         \u001b[0;32mfor\u001b[0m \u001b[0m_\u001b[0m \u001b[0;32min\u001b[0m \u001b[0mrange\u001b[0m\u001b[0;34m(\u001b[0m\u001b[0mInteger\u001b[0m\u001b[0;34m(\u001b[0m\u001b[0;36m8\u001b[0m\u001b[0;34m)\u001b[0m\u001b[0;34m)\u001b[0m\u001b[0;34m:\u001b[0m\u001b[0;34m\u001b[0m\u001b[0m\n\u001b[1;32m     10\u001b[0m             \u001b[0mx\u001b[0m \u001b[0;34m=\u001b[0m \u001b[0mencrypt_no_base64\u001b[0m\u001b[0;34m(\u001b[0m\u001b[0;34m'BAAAAAAAAAAAAAAAAAAABA=='\u001b[0m\u001b[0;34m)\u001b[0m\u001b[0;34m\u001b[0m\u001b[0m\n",
      "\u001b[0;32m<ipython-input-6-9246e71723df>\u001b[0m in \u001b[0;36mencrypt_no_base64\u001b[0;34m(m)\u001b[0m\n\u001b[1;32m      6\u001b[0m \u001b[0;34m\u001b[0m\u001b[0m\n\u001b[1;32m      7\u001b[0m \u001b[0;32mdef\u001b[0m \u001b[0mencrypt_no_base64\u001b[0m\u001b[0;34m(\u001b[0m\u001b[0mm\u001b[0m\u001b[0;34m)\u001b[0m\u001b[0;34m:\u001b[0m\u001b[0;34m\u001b[0m\u001b[0m\n\u001b[0;32m----> 8\u001b[0;31m     \u001b[0;32mreturn\u001b[0m \u001b[0mconnect_server\u001b[0m\u001b[0;34m(\u001b[0m\u001b[0;34m\"lasecpc25.epfl.ch\"\u001b[0m\u001b[0;34m,\u001b[0m \u001b[0mInteger\u001b[0m\u001b[0;34m(\u001b[0m\u001b[0;36m6666\u001b[0m\u001b[0;34m)\u001b[0m\u001b[0;34m,\u001b[0m \u001b[0mstr\u001b[0m\u001b[0;34m(\u001b[0m\u001b[0mSciper\u001b[0m\u001b[0;34m)\u001b[0m \u001b[0;34m+\u001b[0m \u001b[0;34m\" \"\u001b[0m \u001b[0;34m+\u001b[0m \u001b[0mm\u001b[0m\u001b[0;34m)\u001b[0m\u001b[0;34m\u001b[0m\u001b[0m\n\u001b[0m",
      "\u001b[0;32m<ipython-input-5-b43774700a0e>\u001b[0m in \u001b[0;36mconnect_server\u001b[0;34m(server_name, port, message)\u001b[0m\n\u001b[1;32m      1\u001b[0m \u001b[0;32mdef\u001b[0m \u001b[0mconnect_server\u001b[0m\u001b[0;34m(\u001b[0m\u001b[0mserver_name\u001b[0m\u001b[0;34m,\u001b[0m \u001b[0mport\u001b[0m\u001b[0;34m,\u001b[0m \u001b[0mmessage\u001b[0m\u001b[0;34m)\u001b[0m\u001b[0;34m:\u001b[0m\u001b[0;34m\u001b[0m\u001b[0m\n\u001b[1;32m      2\u001b[0m     \u001b[0mserver\u001b[0m \u001b[0;34m=\u001b[0m \u001b[0;34m(\u001b[0m\u001b[0mserver_name\u001b[0m\u001b[0;34m,\u001b[0m \u001b[0mint\u001b[0m\u001b[0;34m(\u001b[0m\u001b[0mport\u001b[0m\u001b[0;34m)\u001b[0m\u001b[0;34m)\u001b[0m \u001b[0;31m#calling int is required when using Sage\u001b[0m\u001b[0;34m\u001b[0m\u001b[0m\n\u001b[0;32m----> 3\u001b[0;31m     \u001b[0ms\u001b[0m \u001b[0;34m=\u001b[0m \u001b[0msocket\u001b[0m\u001b[0;34m.\u001b[0m\u001b[0mcreate_connection\u001b[0m\u001b[0;34m(\u001b[0m\u001b[0mserver\u001b[0m\u001b[0;34m)\u001b[0m\u001b[0;34m\u001b[0m\u001b[0m\n\u001b[0m\u001b[1;32m      4\u001b[0m     \u001b[0ms\u001b[0m\u001b[0;34m.\u001b[0m\u001b[0msend\u001b[0m\u001b[0;34m(\u001b[0m\u001b[0mmessage\u001b[0m \u001b[0;34m+\u001b[0m \u001b[0;34m\"\\n\"\u001b[0m\u001b[0;34m)\u001b[0m\u001b[0;34m\u001b[0m\u001b[0m\n\u001b[1;32m      5\u001b[0m     \u001b[0mresponse\u001b[0m\u001b[0;34m=\u001b[0m\u001b[0;34m\"\"\u001b[0m\u001b[0;34m\u001b[0m\u001b[0m\n",
      "\u001b[0;32m/opt/sage/local/lib/python2.7/socket.pyc\u001b[0m in \u001b[0;36mcreate_connection\u001b[0;34m(address, timeout, source_address)\u001b[0m\n\u001b[1;32m    557\u001b[0m     \u001b[0mhost\u001b[0m\u001b[0;34m,\u001b[0m \u001b[0mport\u001b[0m \u001b[0;34m=\u001b[0m \u001b[0maddress\u001b[0m\u001b[0;34m\u001b[0m\u001b[0m\n\u001b[1;32m    558\u001b[0m     \u001b[0merr\u001b[0m \u001b[0;34m=\u001b[0m \u001b[0mNone\u001b[0m\u001b[0;34m\u001b[0m\u001b[0m\n\u001b[0;32m--> 559\u001b[0;31m     \u001b[0;32mfor\u001b[0m \u001b[0mres\u001b[0m \u001b[0;32min\u001b[0m \u001b[0mgetaddrinfo\u001b[0m\u001b[0;34m(\u001b[0m\u001b[0mhost\u001b[0m\u001b[0;34m,\u001b[0m \u001b[0mport\u001b[0m\u001b[0;34m,\u001b[0m \u001b[0;36m0\u001b[0m\u001b[0;34m,\u001b[0m \u001b[0mSOCK_STREAM\u001b[0m\u001b[0;34m)\u001b[0m\u001b[0;34m:\u001b[0m\u001b[0;34m\u001b[0m\u001b[0m\n\u001b[0m\u001b[1;32m    560\u001b[0m         \u001b[0maf\u001b[0m\u001b[0;34m,\u001b[0m \u001b[0msocktype\u001b[0m\u001b[0;34m,\u001b[0m \u001b[0mproto\u001b[0m\u001b[0;34m,\u001b[0m \u001b[0mcanonname\u001b[0m\u001b[0;34m,\u001b[0m \u001b[0msa\u001b[0m \u001b[0;34m=\u001b[0m \u001b[0mres\u001b[0m\u001b[0;34m\u001b[0m\u001b[0m\n\u001b[1;32m    561\u001b[0m         \u001b[0msock\u001b[0m \u001b[0;34m=\u001b[0m \u001b[0mNone\u001b[0m\u001b[0;34m\u001b[0m\u001b[0m\n",
      "\u001b[0;31mgaierror\u001b[0m: [Errno -3] Temporary failure in name resolution"
     ]
    }
   ],
   "source": [
    "c = base64.b64decode(C)\n",
    "cipher_blocks = [c[16*i:16*(i+1)] for i in range(len(c)/16)]\n",
    "\n",
    "# These are the original keys derived from Np we will be using to get the real keys from the server\n",
    "keys = \"\".join([(little_endian((Np - i) % 2^64) + big_endian((Np + i) % 2^64)) for i in range(len(cipher_blocks))])\n",
    "\n",
    "blocks = [keys[16*i:16*(i+1)] for i in range(len(keys)/16)]\n",
    "\n",
    "# We go to CBC mode (N % 8 = 3)\n",
    "goToCBC()\n",
    "keys_blocks = []\n",
    "for b in blocks:\n",
    "    # With CBC mode, we get the output of the next CTR if we give it the right input\n",
    "    A = bits(encrypt(little_endian(5) + big_endian(5)))\n",
    "    # Now N % 8 = 4\n",
    "    [encrypt(\"whatever\") for _ in range(2)]\n",
    "    # Now N % 8 = 6 (OFB)\n",
    "    # We pass it A xor the block\n",
    "    res_b = encrypt(string(xor(bits(b), A))+ \"\\x00\") \n",
    "    # Now N % 8 = 7\n",
    "    # We store the result\n",
    "    keys_blocks.append(res_b[16:])\n",
    "    # We go back to CBC mode (N % 8 = 3)\n",
    "    [encrypt(\"whatever\") for _ in range(4)]\n",
    "\n",
    "res = [string(xor(bits(keys_blocks[i]), bits(cipher_blocks[i]))) for i in range(len(cipher_blocks))]\n",
    "\n",
    "print base64.b64encode(\"\".join(res))"
   ]
  }
 ],
 "metadata": {
  "kernelspec": {
   "display_name": "SageMath 8.2",
   "language": "",
   "name": "sagemath"
  },
  "language_info": {
   "codemirror_mode": {
    "name": "ipython",
    "version": 2
   },
   "file_extension": ".py",
   "mimetype": "text/x-python",
   "name": "python",
   "nbconvert_exporter": "python",
   "pygments_lexer": "ipython2",
   "version": "2.7.14"
  }
 },
 "nbformat": 4,
 "nbformat_minor": 2
}
