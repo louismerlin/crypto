{
 "cells": [
  {
   "cell_type": "markdown",
   "metadata": {},
   "source": [
    "## Exercise 5 ~ Nibblet Oracle"
   ]
  },
  {
   "cell_type": "code",
   "execution_count": 1,
   "metadata": {},
   "outputs": [],
   "source": [
    "import socket\n",
    "from random import choice"
   ]
  },
  {
   "cell_type": "code",
   "execution_count": 2,
   "metadata": {},
   "outputs": [],
   "source": [
    "Sciper = \"247565\"\n",
    "ct = \"42a208e4c6beb1d7f3bd718f523345b73dec3f422ab9f0e1ec1b1278b02eb0d8e71296458e4733ed0444a5f8dc2df167abf4ad17fefdf3a1f62e180f8a3ee41c\""
   ]
  },
  {
   "cell_type": "markdown",
   "metadata": {},
   "source": [
    "Let's get the server methods :"
   ]
  },
  {
   "cell_type": "code",
   "execution_count": 3,
   "metadata": {},
   "outputs": [],
   "source": [
    "def connect_server(server_name, port, message):\n",
    "    server = (server_name, int(port)) #calling int is required when using Sage\n",
    "    s = socket.create_connection(server)\n",
    "    s.send(message + \"\\n\")\n",
    "    response=\"\"\n",
    "    while True: #data might come in several packets, need to wait for all of it\n",
    "        data = s.recv(1024)\n",
    "        if len(data) == 0:\n",
    "            break\n",
    "        if data[-1] == '\\n': \n",
    "            response += data[:-1]  \n",
    "            break\n",
    "        response += data\n",
    "    s.close()\n",
    "    return response\n",
    "\n",
    "\n",
    "def encryption_query(sciper, pt):\n",
    "    server_name = \"lasecpc25.epfl.ch\"\n",
    "    port = \"5559\"\n",
    "    message = sciper + \" \" + pt\n",
    "    response = connect_server(server_name, port, message)\n",
    "    #print(response)\n",
    "    return response"
   ]
  },
  {
   "cell_type": "code",
   "execution_count": 4,
   "metadata": {},
   "outputs": [
    {
     "name": "stdout",
     "output_type": "stream",
     "text": [
      "Number of blocks : 8\n"
     ]
    }
   ],
   "source": [
    "print \"Number of blocks :\", len(ct) / 16"
   ]
  },
  {
   "cell_type": "markdown",
   "metadata": {},
   "source": [
    "The ciphertext has 8 blocks."
   ]
  },
  {
   "cell_type": "markdown",
   "metadata": {},
   "source": [
    "Here is a helper method to get random hexadecimal string :"
   ]
  },
  {
   "cell_type": "code",
   "execution_count": 5,
   "metadata": {},
   "outputs": [],
   "source": [
    "def rand_hex(l=16):\n",
    "    hex_chars = \"0123456789abcdef\"\n",
    "    h = []\n",
    "    for i in range(l):\n",
    "        h.append(choice(hex_chars))\n",
    "    return ''.join(h)"
   ]
  },
  {
   "cell_type": "markdown",
   "metadata": {},
   "source": [
    "And helper methods to convert hexadecimal to binary, and the other way around."
   ]
  },
  {
   "cell_type": "code",
   "execution_count": 6,
   "metadata": {},
   "outputs": [],
   "source": [
    "def hex_to_binary(h):\n",
    "    final_length = len(h) * 4\n",
    "    b = bin(int(h, 16))[2:]\n",
    "    while len(b) < final_length:\n",
    "        b = '0' + b\n",
    "    return b\n",
    "\n",
    "def binary_to_hex(b):\n",
    "    final_length = len(b) / 4\n",
    "    h = hex(int(''.join(b), 2))[2:]\n",
    "    if h[-1] == 'L':\n",
    "        h = h[:-1]\n",
    "    while len(h) < final_length:\n",
    "        h = '0' + h\n",
    "    return h"
   ]
  },
  {
   "cell_type": "markdown",
   "metadata": {},
   "source": [
    "Let's try to see what impact flipping each bit has on the ciphertext :"
   ]
  },
  {
   "cell_type": "code",
   "execution_count": 7,
   "metadata": {},
   "outputs": [],
   "source": [
    "# This is how many flips we do for each bit \n",
    "ITER_NUM = 4\n",
    "\n",
    "all_flipped_bits = []\n",
    "\n",
    "for bit_to_flip in range(64): # For each bit in [0..64]\n",
    "    flipped_bits = dict()\n",
    "    for i in range(ITER_NUM): # Do this ITER_NUM times\n",
    "        # Take a random hexadecimal value and encrypt it\n",
    "        first_plain = rand_hex()\n",
    "        first_enc = encryption_query(Sciper, first_plain)\n",
    "        # Now flip the bit we are analysing, and encrypt that\n",
    "        second_plain_bin_list = list(hex_to_binary(first_plain))\n",
    "        if second_plain_bin_list[bit_to_flip] == '0':\n",
    "            second_plain_bin_list[bit_to_flip] = '1'\n",
    "        else:\n",
    "            second_plain_bin_list[bit_to_flip] = '0'\n",
    "        second_plain = binary_to_hex(second_plain_bin_list)\n",
    "        second_enc = encryption_query(Sciper, second_plain)\n",
    "        # Log the differences\n",
    "        first_enc_bin = hex_to_binary(first_enc)\n",
    "        second_enc_bin = hex_to_binary(second_enc)\n",
    "        for j in range(len(first_enc_bin)):\n",
    "            if first_enc_bin[j] != second_enc_bin[j]:\n",
    "                if j in flipped_bits:\n",
    "                    flipped_bits[j] += 1\n",
    "                else:\n",
    "                    flipped_bits[j] = 1\n",
    "            else:\n",
    "                if j not in flipped_bits:\n",
    "                    flipped_bits[j] = 0\n",
    "    all_flipped_bits.append([flipped_bits[x] for x in range(64)])"
   ]
  },
  {
   "cell_type": "markdown",
   "metadata": {},
   "source": [
    "These represent the data we have aggregated in the previous cell.\n",
    "\n",
    "Each line represents one bit that we flipped.\n",
    "\n",
    "A \"1\" means the bit might be affected, and a \"0\" that it was never affected."
   ]
  },
  {
   "cell_type": "code",
   "execution_count": 8,
   "metadata": {},
   "outputs": [
    {
     "name": "stdout",
     "output_type": "stream",
     "text": [
      "0100000011000001011100001000000001100000000000010000100101000011\n",
      "0000100100100110000010000010010010000100000001100001000000010100\n",
      "1001011000000000000001100001001000000011100000001000000000101000\n",
      "1001011000000000000001100001001100000011101000001000000000101000\n",
      "0010000000011000000000010100100000011000010100000100011010000000\n",
      "0000100100100110000010000010010010000000000001100001000000010100\n",
      "0000100100100110000010000010010000000100000001100001000000010100\n",
      "0100000011000001001100001000000000100000000000010000100101000011\n",
      "1001011000000000000001100001001100000011101000001000000000101000\n",
      "0010000000011000100000010100100000011000010110000100010010000000\n",
      "1001011000000000000001100001001100000011101000001000000000100000\n",
      "0000100100100110000010000010010010000100000001100011000000010100\n",
      "1001011000000000000001000001001100000011101000001000000000101000\n",
      "0000100100100110000000000010010010000100000001100011000000010100\n",
      "1001011000000000000001100001001100000011101000001000000000101000\n",
      "0000100100100110000010000010010010000100000001100011000000010100\n",
      "0100000011000001010100001000000001100000000000010000100101000011\n",
      "0010000000011000100000010100100000011000000110000100011010000000\n",
      "0100000011000001011100001000000001100000000000010000100101000011\n",
      "0001001000000000000001100001001100000011100000001000000000101000\n",
      "1001011000000000000001100001001100000001101000001000000000101000\n",
      "1001011000000000000001100001001100000011101000001000000000101000\n",
      "1001011000000000000001100001001100000011101000001000000000101000\n",
      "0100000011000001011100001000000001100000000000000000100100000011\n",
      "0010000000011000100000010100100000011000010110000100011010000000\n",
      "1001011000000000000001000001001100000011101000001000000000101000\n",
      "0100000011000001010100001000000001100000000000010000100101000011\n",
      "0100000001000001011100001000000001100000000000010000100101000011\n",
      "0010000000011000100000000100100000011000010110000100011010000000\n",
      "0010000000011000100000010100100000011000010110000100011010000000\n",
      "0000100100100110000010000010010010000100000001100011000000010100\n",
      "0100000011000000011100001000000001100000000000010000100101000011\n",
      "0100000011000001011100001000000001100000000000010000100101000011\n",
      "0010000000011000100000010100100000011000010110000100011000000000\n",
      "0000100100100110000010000000010010000100000001100011000000010100\n",
      "0000100100100110000010000010010010000100000001000011000000010100\n",
      "1001011000000000000001100001000100000011101000001000000000001000\n",
      "0010000000011000100000010100100000010000010110000100011010000000\n",
      "0000100100100110000010000010010010000000000001100011000000010100\n",
      "0100000011000001011100001000000001100000000000010000100101000011\n",
      "0100000011000001011100001000000001100000000000010000100101000011\n",
      "0010000000011000100000010100100000011000010110000100011010000000\n",
      "0000000011000001011100001000000001100000000000010000100101000011\n",
      "0010000000011000100000010100100000011000010110000100011010000000\n",
      "0010000000011000100000010100100000011000010110000100011010000000\n",
      "0100000011000001011100001000000001100000000000010000100101000011\n",
      "0000100100100110000010000010010010000100000001100011000000010100\n",
      "0100000011000001011100001000000001100000000000010000100100000011\n",
      "0100000011000001011100001000000001100000000000010000100101000011\n",
      "0000100000100110000010000010010010000100000001100011000000010100\n",
      "0010000000011000100000010100100000011000010010000100011010000000\n",
      "0000100100100110000010000010010010000100000001100011000000010100\n",
      "0000100100100110000010000010010010000100000001100011000000010100\n",
      "1001011000000000000001000001001000000011101000001000000000101000\n",
      "0010000000011000100000010100100000001000010110000100011010000000\n",
      "0010000000011000100000010100100000011000010110000100011010000000\n",
      "0010000000011000100000010000100000011000010110000100011010000000\n",
      "0000100100100110000010000000010010000100000001100011000000010100\n",
      "1001011000000000000001100001001100000011101000001000000000101000\n",
      "1001011000000000000001100001001100000011101000001000000000101000\n",
      "0010000000011000100000010100100000011000010110000100011010000000\n",
      "0001011000000000000001000001001100000011101000001000000000101000\n",
      "0100000011000001011100000000000001100000000000010000100000000010\n",
      "0000000100100010000010000010010010000100000001100011000000010000\n"
     ]
    }
   ],
   "source": [
    "all_flipped_bits_str = []\n",
    "for f in range(len(all_flipped_bits)):\n",
    "    s = ''\n",
    "    for i in range(len(all_flipped_bits[f])):\n",
    "        if all_flipped_bits[f][i] == 0:\n",
    "            s += '0'\n",
    "        else:\n",
    "            s += '1'\n",
    "    all_flipped_bits_str.append(s)\n",
    "    print s"
   ]
  },
  {
   "cell_type": "markdown",
   "metadata": {},
   "source": [
    "There seem to be many similar lines.\n",
    "\n",
    "One reason could be that a subset of input bits only affect a certain other subset of output bits. Let's test this intuition :"
   ]
  },
  {
   "cell_type": "code",
   "execution_count": 9,
   "metadata": {},
   "outputs": [
    {
     "name": "stdout",
     "output_type": "stream",
     "text": [
      "[([2, 3, 8, 10, 12, 14, 19, 20, 21, 22, 25, 36, 53, 58, 59, 61], [0, 3, 5, 6, 21, 22, 27, 30, 31, 38, 39, 40, 42, 48, 58, 60]), ([0, 7, 16, 18, 23, 26, 27, 31, 32, 39, 40, 42, 45, 47, 48, 62], [1, 8, 9, 15, 17, 18, 19, 24, 33, 34, 47, 52, 55, 57, 62, 63]), ([4, 9, 17, 24, 28, 29, 33, 37, 41, 43, 44, 50, 54, 55, 56, 60], [2, 11, 12, 16, 23, 25, 28, 35, 36, 41, 43, 44, 49, 53, 54, 56]), ([1, 5, 6, 11, 13, 15, 30, 34, 35, 38, 46, 49, 51, 52, 57, 63], [4, 7, 10, 13, 14, 20, 26, 29, 32, 37, 45, 46, 50, 51, 59, 61])]\n"
     ]
    }
   ],
   "source": [
    "groups = []\n",
    "for i in range(64):\n",
    "    for j in range(len(all_flipped_bits_str)):\n",
    "        for k in range(len(all_flipped_bits_str)):\n",
    "            if all_flipped_bits_str[j][i] == '1':\n",
    "                if all_flipped_bits_str[k][i] == '1':\n",
    "                    found_group = False\n",
    "                    for (l, m) in groups:\n",
    "                        if (k in l) and (j not in l):\n",
    "                            l.add(j)\n",
    "                        if (j in l):\n",
    "                            m.add(i)\n",
    "                            found_group = True\n",
    "                            break\n",
    "                    if found_group == False:\n",
    "                        groups.append((set([j]), set([i])))\n",
    "groups = [(list(sorted(s)), list(sorted(m))) for (s, m) in groups]\n",
    "print groups"
   ]
  },
  {
   "cell_type": "markdown",
   "metadata": {},
   "source": [
    "Gotcha ! There are four different groups of bits that affect four different groups of bits ! This will give us a way to reverse the ciphertext.\n",
    "\n",
    "We can use a \"simple\" exhaustive search : we have reduced our search space to $2^{16}$ values.\n",
    "\n",
    "Let's first create all possible values of the 16 bits :"
   ]
  },
  {
   "cell_type": "code",
   "execution_count": 10,
   "metadata": {},
   "outputs": [],
   "source": [
    "plain_m = ''\n",
    "\n",
    "for i in range(2 ** 16):\n",
    "    bin_i = '{0:016b}'.format(i)\n",
    "    temp_m = [' ' for _ in range(64)]\n",
    "    for (g, _) in groups:\n",
    "        for j in range(len(g)):\n",
    "            temp_m[g[j]] = bin_i[j]\n",
    "    plain_m += ''.join(temp_m)\n",
    "\n",
    "plain_hex_m = binary_to_hex(plain_m)"
   ]
  },
  {
   "cell_type": "markdown",
   "metadata": {},
   "source": [
    "Now we can encrypt all of those values, and we should be able to deconstruct our ciphertext using the output."
   ]
  },
  {
   "cell_type": "code",
   "execution_count": 11,
   "metadata": {
    "scrolled": false
   },
   "outputs": [],
   "source": [
    "enc_m = ''\n",
    "split = 16\n",
    "for i in range(split):\n",
    "    m = plain_hex_m[i * len(plain_hex_m) / split:(i + 1) * len(plain_hex_m) / split]\n",
    "    enc_m += encryption_query(Sciper, m)"
   ]
  },
  {
   "cell_type": "markdown",
   "metadata": {},
   "source": [
    "Now we reconstruct the plaintext :"
   ]
  },
  {
   "cell_type": "code",
   "execution_count": 12,
   "metadata": {},
   "outputs": [],
   "source": [
    "my_flipped_bits = []\n",
    "final_bin = [' ' for _ in range(len(ct) * 4)]\n",
    "for block in range(len(ct) / 16): # For each 64-bit block of ct\n",
    "    b = ct[block * 16:(block + 1) * 16]\n",
    "    block_bin = hex_to_binary(b)\n",
    "    temp_bin = [' ' for _ in range(len(block_bin))]\n",
    "    for i in range(len(enc_m) / 16): # For each 64-bit block of enc_m\n",
    "        enc_block = enc_m[i * 16:(i+1) * 16]\n",
    "        enc_block_bin = hex_to_binary(enc_block)\n",
    "        for g in groups:\n",
    "            is_a_match = True\n",
    "            for group_loc in g[1]:\n",
    "                if enc_block_bin[group_loc] != block_bin[group_loc]:\n",
    "                    is_a_match = False\n",
    "            if is_a_match:\n",
    "                h = plain_hex_m[i * 16:(i+1) * 16]\n",
    "                h_bin = hex_to_binary(h)\n",
    "                for group_loc in g[0]:\n",
    "                    temp_bin[group_loc] = h_bin[group_loc]\n",
    "    final_bin[block * len(block_bin):(block + 1) * len(block_bin)] = temp_bin"
   ]
  },
  {
   "cell_type": "code",
   "execution_count": 14,
   "metadata": {
    "scrolled": true
   },
   "outputs": [
    {
     "name": "stdout",
     "output_type": "stream",
     "text": [
      "e985260398b0d8f10d3762bc63308194791b3cf02a8c87bcdb3f8accf14f552a249076f97abd4324c3d9f134c2925c66105b17803931716a832b51f1288b9716\n",
      "True\n"
     ]
    }
   ],
   "source": [
    "print binary_to_hex(final_bin)\n",
    "print encryption_query(Sciper, binary_to_hex(final_bin)) == ct"
   ]
  },
  {
   "cell_type": "code",
   "execution_count": null,
   "metadata": {},
   "outputs": [],
   "source": []
  }
 ],
 "metadata": {
  "kernelspec": {
   "display_name": "SageMath 8.2",
   "language": "",
   "name": "sagemath"
  },
  "language_info": {
   "codemirror_mode": {
    "name": "ipython",
    "version": 2
   },
   "file_extension": ".py",
   "mimetype": "text/x-python",
   "name": "python",
   "nbconvert_exporter": "python",
   "pygments_lexer": "ipython2",
   "version": "2.7.14"
  }
 },
 "nbformat": 4,
 "nbformat_minor": 2
}
