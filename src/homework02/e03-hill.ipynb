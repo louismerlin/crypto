{
 "cells": [
  {
   "cell_type": "markdown",
   "metadata": {},
   "source": [
    "## Exercise 3 ~ The Hill Cipher"
   ]
  },
  {
   "cell_type": "code",
   "execution_count": 1,
   "metadata": {},
   "outputs": [],
   "source": [
    "# Get variable from parameters file\n",
    "import utils\n",
    "params = utils.get_parameters()"
   ]
  },
  {
   "cell_type": "code",
   "execution_count": 2,
   "metadata": {},
   "outputs": [],
   "source": [
    "S3 = params.S3"
   ]
  },
  {
   "cell_type": "code",
   "execution_count": 3,
   "metadata": {},
   "outputs": [],
   "source": [
    "# Hill encoding for our 27-letter alphabet\n",
    "def hill_enc(a):\n",
    "    e = []\n",
    "    for c in a:\n",
    "        if c == ' ':\n",
    "            e.append(ZZ(0))\n",
    "        else:\n",
    "            e.append(ZZ(ord(c) - 96))\n",
    "    return e"
   ]
  },
  {
   "cell_type": "code",
   "execution_count": 4,
   "metadata": {},
   "outputs": [],
   "source": [
    "# Hill decoding for out 27-letter alphabet\n",
    "def hill_dec(a):\n",
    "    f = ''\n",
    "    for c in a:\n",
    "        if c == 0:\n",
    "            f += ' '\n",
    "        else:\n",
    "            f += chr(int(c) + 96)\n",
    "    return f"
   ]
  },
  {
   "cell_type": "code",
   "execution_count": 5,
   "metadata": {},
   "outputs": [],
   "source": [
    "# Number of rows and columns in S3\n",
    "n = 13\n",
    "\n",
    "# We get the columns from the parameter string\n",
    "S3_columns = [S3[i * n:(i + 1) * n] for i in range(n)]\n",
    "\n",
    "# We use Hill Encoding on S3 and c3\n",
    "S3_encoded = [hill_enc(r) for r in S3_columns]\n",
    "c3_encoded = hill_enc(params.c3)\n",
    "\n",
    "# We create sage matrices in Z_27 with S3 and c3\n",
    "S3_matrix = Matrix(ZZ.quo(27*ZZ), S3_encoded)\n",
    "c3_matrix = Matrix(ZZ.quo(27*ZZ), [[v] for v in c3_encoded])"
   ]
  },
  {
   "cell_type": "code",
   "execution_count": 6,
   "metadata": {},
   "outputs": [
    {
     "name": "stdout",
     "output_type": "stream",
     "text": [
      "a magic sentence with random words edges and chowing whose length is a multiple of thirteen\n"
     ]
    }
   ],
   "source": [
    "p3_encoded = []\n",
    "\n",
    "# For each piece of c3 of length 13\n",
    "for i in range(7):\n",
    "    c3_column = c3_matrix[i * n:(i + 1) * n]\n",
    "    # We solve the matrix equation S3 * m = c3 for m\n",
    "    m = S3_matrix \\ c3_column\n",
    "    # And we add the result to the final array\n",
    "    p3_encoded += m\n",
    "\n",
    "# We use Hill Decoding to find the final message\n",
    "decoded_message = hill_dec([c[0] for c in p3_encoded])\n",
    "print decoded_message"
   ]
  }
 ],
 "metadata": {
  "kernelspec": {
   "display_name": "SageMath 8.2",
   "language": "",
   "name": "sagemath"
  },
  "language_info": {
   "codemirror_mode": {
    "name": "ipython",
    "version": 2
   },
   "file_extension": ".py",
   "mimetype": "text/x-python",
   "name": "python",
   "nbconvert_exporter": "python",
   "pygments_lexer": "ipython2",
   "version": "2.7.14"
  }
 },
 "nbformat": 4,
 "nbformat_minor": 2
}
