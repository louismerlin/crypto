{
 "cells": [
  {
   "cell_type": "markdown",
   "metadata": {},
   "source": [
    "## Exercise 1 ~ Order!"
   ]
  },
  {
   "cell_type": "code",
   "execution_count": 1,
   "metadata": {
    "scrolled": false
   },
   "outputs": [],
   "source": [
    "# Get variable from parameters file\n",
    "import utils\n",
    "params = utils.get_parameters()"
   ]
  },
  {
   "cell_type": "code",
   "execution_count": 2,
   "metadata": {},
   "outputs": [],
   "source": [
    "P = params.Q1_P"
   ]
  },
  {
   "cell_type": "markdown",
   "metadata": {},
   "source": [
    "We have to create the ring of order $P^2$."
   ]
  },
  {
   "cell_type": "code",
   "execution_count": 3,
   "metadata": {},
   "outputs": [],
   "source": [
    "ring = IntegerModRing(P ** 2)"
   ]
  },
  {
   "cell_type": "markdown",
   "metadata": {},
   "source": [
    "We find the order $r$ because it is the first non-trivial odd divisor of $P-1$"
   ]
  },
  {
   "cell_type": "code",
   "execution_count": 4,
   "metadata": {},
   "outputs": [
    {
     "name": "stdout",
     "output_type": "stream",
     "text": [
      "872923\n"
     ]
    }
   ],
   "source": [
    "order = divisors(P-1)[2]\n",
    "\n",
    "print order"
   ]
  },
  {
   "cell_type": "markdown",
   "metadata": {},
   "source": [
    "We find the generator of the ring by using the sage method `unit_gens()`"
   ]
  },
  {
   "cell_type": "code",
   "execution_count": 5,
   "metadata": {
    "scrolled": true
   },
   "outputs": [
    {
     "name": "stdout",
     "output_type": "stream",
     "text": [
      "5\n"
     ]
    }
   ],
   "source": [
    "generator = ring.unit_gens()[0]\n",
    "\n",
    "print generator"
   ]
  },
  {
   "cell_type": "markdown",
   "metadata": {},
   "source": [
    "Now, we find the smallest element of the ring with order $r$. For this we use the fact that this element will be of the form $generator^{i\\times P\\times(P-1) / order}$, and so we iterate over the $i$s."
   ]
  },
  {
   "cell_type": "code",
   "execution_count": 6,
   "metadata": {},
   "outputs": [
    {
     "name": "stdout",
     "output_type": "stream",
     "text": [
      "196925475333199924766685469196508098247094963247954604416185661491801815869078849572926623556083375328539213160952105528828328363989823983634589929591429918641211373\n"
     ]
    }
   ],
   "source": [
    "# We initiate element to be the biggest number of the ring\n",
    "element = ring(P ** 2 - 1)\n",
    "# We will keep the iterative value in gen\n",
    "gen = ring(1)\n",
    "mult= generator ** (P * (P - 1) / order)\n",
    "\n",
    "for i in range(order - 1):\n",
    "    gen *= mult\n",
    "    if gen < element:\n",
    "        element = gen\n",
    "\n",
    "print element"
   ]
  },
  {
   "cell_type": "markdown",
   "metadata": {},
   "source": [
    "Let's check that $element^{order}\\equiv 1 (mod P^2)$"
   ]
  },
  {
   "cell_type": "code",
   "execution_count": 7,
   "metadata": {},
   "outputs": [
    {
     "name": "stdout",
     "output_type": "stream",
     "text": [
      "1\n"
     ]
    }
   ],
   "source": [
    "print Integer(element).powermod(order, 65055157034198167228618392426685291748435376135976788685076259415650046232071807945127 ** 2)"
   ]
  }
 ],
 "metadata": {
  "kernelspec": {
   "display_name": "SageMath 8.2",
   "language": "",
   "name": "sagemath"
  },
  "language_info": {
   "codemirror_mode": {
    "name": "ipython",
    "version": 2
   },
   "file_extension": ".py",
   "mimetype": "text/x-python",
   "name": "python",
   "nbconvert_exporter": "python",
   "pygments_lexer": "ipython2",
   "version": "2.7.14"
  }
 },
 "nbformat": 4,
 "nbformat_minor": 2
}
