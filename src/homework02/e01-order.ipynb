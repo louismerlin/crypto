{
 "cells": [
  {
   "cell_type": "code",
   "execution_count": 1,
   "metadata": {
    "scrolled": false
   },
   "outputs": [],
   "source": [
    "# Get variable from parameters file\n",
    "import utils\n",
    "params = utils.get_parameters()"
   ]
  },
  {
   "cell_type": "code",
   "execution_count": 2,
   "metadata": {},
   "outputs": [
    {
     "name": "stdout",
     "output_type": "stream",
     "text": [
      "The smallest theoretical non-trivial, positive, odd order n is 3\n",
      "1 ** 3 in this ring is 1\n",
      "We can conclude that Q1_element=1 and Q1_order=3\n"
     ]
    }
   ],
   "source": [
    "# Create the ring\n",
    "ring = Zmod(int(params.Q1_P) ** 2)\n",
    "\n",
    "print \"The smallest theoretical non-trivial, positive, odd order n is 3\"\n",
    "print \"1 ** 3 in this ring is\", ring(1 ** 3)\n",
    "print \"We can conclude that Q1_element=1 and Q1_order=3\""
   ]
  }
 ],
 "metadata": {
  "kernelspec": {
   "display_name": "SageMath 8.2",
   "language": "",
   "name": "sagemath"
  },
  "language_info": {
   "codemirror_mode": {
    "name": "ipython",
    "version": 2
   },
   "file_extension": ".py",
   "mimetype": "text/x-python",
   "name": "python",
   "nbconvert_exporter": "python",
   "pygments_lexer": "ipython2",
   "version": "2.7.14"
  }
 },
 "nbformat": 4,
 "nbformat_minor": 2
}
