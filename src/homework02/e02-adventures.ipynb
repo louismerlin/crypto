{
 "cells": [
  {
   "cell_type": "markdown",
   "metadata": {},
   "source": [
    "## Exercise 2 ~ The Adventures of the Crypto-Apprentice: Generalized Vernam Cipher With Key Expansion"
   ]
  },
  {
   "cell_type": "code",
   "execution_count": 1,
   "metadata": {},
   "outputs": [],
   "source": [
    "import re\n",
    "# Get variable from parameters file\n",
    "import utils\n",
    "params = utils.get_parameters()"
   ]
  },
  {
   "cell_type": "code",
   "execution_count": 2,
   "metadata": {},
   "outputs": [],
   "source": [
    "c2 = params.c2"
   ]
  },
  {
   "cell_type": "markdown",
   "metadata": {},
   "source": [
    "UTF-16BE adds `\\x00` (NULL) between every ASCII character.\n",
    "\n",
    "This means that every two bytes in the ciphertext, two bites are the \"null\" character XORed with the cipherkey.\n",
    "\n",
    "Because of the repeatability over `a` of the key stream, we should be able to find `a` without too much trouble."
   ]
  },
  {
   "cell_type": "code",
   "execution_count": 3,
   "metadata": {
    "scrolled": true
   },
   "outputs": [
    {
     "name": "stdout",
     "output_type": "stream",
     "text": [
      "True\n"
     ]
    }
   ],
   "source": [
    "s = \"Hello !\".encode(\"utf-16be\")\n",
    "print s[0] == '\\x00' and s[2] == '\\x00'"
   ]
  },
  {
   "cell_type": "code",
   "execution_count": 4,
   "metadata": {},
   "outputs": [
    {
     "name": "stdout",
     "output_type": "stream",
     "text": [
      "«ª\n"
     ]
    }
   ],
   "source": [
    "x = bytearray(\"00ab00aa\".decode(\"hex\"))\n",
    "y = bytearray(\"00000000\".decode(\"hex\"))\n",
    "z = bytearray(len(x))\n",
    "for i in range(len(x)):\n",
    "    z[i] = x[i] ^^ y[i]\n",
    "    \n",
    "print z.decode(\"utf-16be\")"
   ]
  },
  {
   "cell_type": "code",
   "execution_count": 5,
   "metadata": {},
   "outputs": [
    {
     "name": "stdout",
     "output_type": "stream",
     "text": [
      "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\n"
     ]
    }
   ],
   "source": [
    "print c2"
   ]
  },
  {
   "cell_type": "code",
   "execution_count": 6,
   "metadata": {},
   "outputs": [],
   "source": [
    "# Let's get all possible values of p\n",
    "possible_primes = [\n",
    "    p for p in range(1, len(c2) * 4)\n",
    "        if is_prime(p) and (p - 1) % 16 == 0\n",
    "]"
   ]
  },
  {
   "cell_type": "code",
   "execution_count": 7,
   "metadata": {},
   "outputs": [
    {
     "name": "stdout",
     "output_type": "stream",
     "text": [
      "Probable value of a: 32\n"
     ]
    }
   ],
   "source": [
    "rec1 = c2[0:2]\n",
    "rec2 = c2[4:6]\n",
    "rec3 = c2[8:10]\n",
    "rec4 = c2[12:14]\n",
    "\n",
    "pattern = rec1 + '..' + rec2 + '..' + rec3 + '..' + rec4\n",
    "\n",
    "pattern_data = re.findall(pattern, c2)\n",
    "pattern_indexes = [c2.find(p) for p in pattern_data]\n",
    "\n",
    "indexes_difference = []\n",
    "for idx in range(len(pattern_indexes) - 1):\n",
    "    indexes_difference.append(pattern_indexes[idx + 1] - pattern_indexes[idx])\n",
    "    \n",
    "most_common = max(set(indexes_difference), key=indexes_difference.count)\n",
    "\n",
    "a = most_common\n",
    "# a = 4\n",
    "\n",
    "print \"Probable value of a:\", most_common"
   ]
  },
  {
   "cell_type": "code",
   "execution_count": 8,
   "metadata": {},
   "outputs": [],
   "source": [
    "binary_c2 = bin(int(c2, 16))[2:]\n",
    "pattern = '0' + binary_c2[0:7] + '.' * 64\n",
    "bin_data = re.findall(pattern, binary_c2)\n",
    "bin_indexes = [binary_c2.find(p) for p in bin_data]"
   ]
  },
  {
   "cell_type": "code",
   "execution_count": 9,
   "metadata": {
    "scrolled": true
   },
   "outputs": [
    {
     "name": "stdout",
     "output_type": "stream",
     "text": [
      "[193, 3217, 4241, 4481, 7121, 12433, 17713, 20113, 21617, 22769, 25793, 26177, 26417, 29569, 30449]\n"
     ]
    },
    {
     "ename": "KeyboardInterrupt",
     "evalue": "",
     "output_type": "error",
     "traceback": [
      "\u001b[0;31m---------------------------------------------------------------------------\u001b[0m",
      "\u001b[0;31mKeyboardInterrupt\u001b[0m                         Traceback (most recent call last)",
      "\u001b[0;32m<ipython-input-9-a619e1e86739>\u001b[0m in \u001b[0;36m<module>\u001b[0;34m()\u001b[0m\n\u001b[1;32m     18\u001b[0m \u001b[0;32mfor\u001b[0m \u001b[0mp\u001b[0m \u001b[0;32min\u001b[0m \u001b[0mpossible\u001b[0m\u001b[0;34m:\u001b[0m\u001b[0;34m\u001b[0m\u001b[0m\n\u001b[1;32m     19\u001b[0m     \u001b[0;32mfor\u001b[0m \u001b[0ma\u001b[0m \u001b[0;32min\u001b[0m \u001b[0mrange\u001b[0m\u001b[0;34m(\u001b[0m\u001b[0mInteger\u001b[0m\u001b[0;34m(\u001b[0m\u001b[0;36m1\u001b[0m\u001b[0;34m)\u001b[0m\u001b[0;34m,\u001b[0m \u001b[0mp\u001b[0m\u001b[0;34m)\u001b[0m\u001b[0;34m:\u001b[0m\u001b[0;34m\u001b[0m\u001b[0m\n\u001b[0;32m---> 20\u001b[0;31m         \u001b[0mkey\u001b[0m \u001b[0;34m=\u001b[0m \u001b[0mkey_builder\u001b[0m\u001b[0;34m(\u001b[0m\u001b[0mp\u001b[0m\u001b[0;34m,\u001b[0m \u001b[0ma\u001b[0m\u001b[0;34m,\u001b[0m \u001b[0mdecode_length\u001b[0m\u001b[0;34m)\u001b[0m\u001b[0;34m\u001b[0m\u001b[0m\n\u001b[0m\u001b[1;32m     21\u001b[0m         \u001b[0mciphertext\u001b[0m \u001b[0;34m=\u001b[0m \u001b[0mbytearray\u001b[0m\u001b[0;34m(\u001b[0m\u001b[0mc2\u001b[0m\u001b[0;34m.\u001b[0m\u001b[0mdecode\u001b[0m\u001b[0;34m(\u001b[0m\u001b[0;34m\"hex\"\u001b[0m\u001b[0;34m)\u001b[0m\u001b[0;34m)\u001b[0m\u001b[0;34m\u001b[0m\u001b[0m\n\u001b[1;32m     22\u001b[0m         \u001b[0mencoded_plaintext\u001b[0m \u001b[0;34m=\u001b[0m \u001b[0mbytearray\u001b[0m\u001b[0;34m(\u001b[0m\u001b[0mdecode_length\u001b[0m\u001b[0;34m)\u001b[0m\u001b[0;34m\u001b[0m\u001b[0m\n",
      "\u001b[0;32m<ipython-input-9-a619e1e86739>\u001b[0m in \u001b[0;36mkey_builder\u001b[0;34m(p, a, l)\u001b[0m\n\u001b[1;32m      1\u001b[0m \u001b[0;32mdef\u001b[0m \u001b[0mkey_builder\u001b[0m\u001b[0;34m(\u001b[0m\u001b[0mp\u001b[0m\u001b[0;34m,\u001b[0m \u001b[0ma\u001b[0m\u001b[0;34m,\u001b[0m \u001b[0ml\u001b[0m\u001b[0;34m)\u001b[0m\u001b[0;34m:\u001b[0m\u001b[0;34m\u001b[0m\u001b[0m\n\u001b[0;32m----> 2\u001b[0;31m     \u001b[0mbit_list\u001b[0m \u001b[0;34m=\u001b[0m \u001b[0;34m[\u001b[0m\u001b[0mmod\u001b[0m\u001b[0;34m(\u001b[0m\u001b[0mmod\u001b[0m\u001b[0;34m(\u001b[0m\u001b[0;34m(\u001b[0m\u001b[0;34m(\u001b[0m\u001b[0mInteger\u001b[0m\u001b[0;34m(\u001b[0m\u001b[0;36m8\u001b[0m\u001b[0;34m)\u001b[0m \u001b[0;34m*\u001b[0m \u001b[0mi\u001b[0m \u001b[0;34m+\u001b[0m \u001b[0mj\u001b[0m \u001b[0;34m+\u001b[0m \u001b[0mInteger\u001b[0m\u001b[0;34m(\u001b[0m\u001b[0;36m1\u001b[0m\u001b[0;34m)\u001b[0m\u001b[0;34m)\u001b[0m \u001b[0;34m*\u001b[0m \u001b[0ma\u001b[0m\u001b[0;34m)\u001b[0m\u001b[0;34m,\u001b[0m \u001b[0mp\u001b[0m\u001b[0;34m)\u001b[0m\u001b[0;34m,\u001b[0m \u001b[0mInteger\u001b[0m\u001b[0;34m(\u001b[0m\u001b[0;36m2\u001b[0m\u001b[0;34m)\u001b[0m\u001b[0;34m)\u001b[0m \u001b[0;32mfor\u001b[0m \u001b[0mi\u001b[0m \u001b[0;32min\u001b[0m \u001b[0mrange\u001b[0m\u001b[0;34m(\u001b[0m\u001b[0mInteger\u001b[0m\u001b[0;34m(\u001b[0m\u001b[0;36m8\u001b[0m\u001b[0;34m)\u001b[0m \u001b[0;34m*\u001b[0m \u001b[0ml\u001b[0m\u001b[0;34m)\u001b[0m \u001b[0;32mfor\u001b[0m \u001b[0mj\u001b[0m \u001b[0;32min\u001b[0m \u001b[0mrange\u001b[0m\u001b[0;34m(\u001b[0m\u001b[0mInteger\u001b[0m\u001b[0;34m(\u001b[0m\u001b[0;36m8\u001b[0m\u001b[0;34m)\u001b[0m\u001b[0;34m)\u001b[0m\u001b[0;34m]\u001b[0m\u001b[0;34m\u001b[0m\u001b[0m\n\u001b[0m\u001b[1;32m      3\u001b[0m     \u001b[0mbit_string\u001b[0m \u001b[0;34m=\u001b[0m \u001b[0;34m\"\"\u001b[0m\u001b[0;34m.\u001b[0m\u001b[0mjoin\u001b[0m\u001b[0;34m(\u001b[0m\u001b[0;34m[\u001b[0m\u001b[0mstr\u001b[0m\u001b[0;34m(\u001b[0m\u001b[0mb\u001b[0m\u001b[0;34m)\u001b[0m \u001b[0;32mfor\u001b[0m \u001b[0mb\u001b[0m \u001b[0;32min\u001b[0m \u001b[0mbit_list\u001b[0m\u001b[0;34m]\u001b[0m\u001b[0;34m)\u001b[0m\u001b[0;34m\u001b[0m\u001b[0m\n\u001b[1;32m      4\u001b[0m     \u001b[0mhex_key\u001b[0m \u001b[0;34m=\u001b[0m \u001b[0;34m'%x'\u001b[0m \u001b[0;34m%\u001b[0m \u001b[0mint\u001b[0m\u001b[0;34m(\u001b[0m\u001b[0mbit_string\u001b[0m\u001b[0;34m,\u001b[0m \u001b[0mInteger\u001b[0m\u001b[0;34m(\u001b[0m\u001b[0;36m2\u001b[0m\u001b[0;34m)\u001b[0m\u001b[0;34m)\u001b[0m\u001b[0;34m\u001b[0m\u001b[0m\n\u001b[1;32m      5\u001b[0m     \u001b[0;32mwhile\u001b[0m \u001b[0mlen\u001b[0m\u001b[0;34m(\u001b[0m\u001b[0mhex_key\u001b[0m\u001b[0;34m)\u001b[0m \u001b[0;34m<\u001b[0m \u001b[0mInteger\u001b[0m\u001b[0;34m(\u001b[0m\u001b[0;36m16\u001b[0m\u001b[0;34m)\u001b[0m \u001b[0;34m*\u001b[0m \u001b[0ml\u001b[0m\u001b[0;34m:\u001b[0m\u001b[0;34m\u001b[0m\u001b[0m\n",
      "\u001b[0;32msrc/cysignals/signals.pyx\u001b[0m in \u001b[0;36mcysignals.signals.python_check_interrupt\u001b[0;34m()\u001b[0m\n",
      "\u001b[0;32msrc/cysignals/signals.pyx\u001b[0m in \u001b[0;36mcysignals.signals.sig_raise_exception\u001b[0;34m()\u001b[0m\n",
      "\u001b[0;31mKeyboardInterrupt\u001b[0m: "
     ]
    }
   ],
   "source": [
    "def key_builder(p, a, l):\n",
    "    bit_list = [mod(mod(((8 * i + j + 1) * a), p), 2) for i in range(8 * l) for j in range(8)]\n",
    "    bit_string = \"\".join([str(b) for b in bit_list])\n",
    "    hex_key = '%x' % int(bit_string, 2)\n",
    "    while len(hex_key) < 16 * l:\n",
    "        hex_key += '0'\n",
    "    # hex_key = hex(int(bit_string, 2))\n",
    "    return bytearray(hex_key.decode(\"hex\"))\n",
    "\n",
    "plaintext = ''\n",
    "# decode_length = len(c2)\n",
    "decode_length = 16\n",
    "\n",
    "possible = [p for p in bin_indexes if p in possible_primes]\n",
    "print possible\n",
    "\n",
    "#for p in possible_primes:\n",
    "for p in possible:\n",
    "    for a in range(1, p):\n",
    "        key = key_builder(p, a, decode_length)\n",
    "        ciphertext = bytearray(c2.decode(\"hex\"))\n",
    "        encoded_plaintext = bytearray(decode_length)\n",
    "        decoded_plaintext = ' '\n",
    "        if key[0] != ciphertext[0]:\n",
    "            continue\n",
    "        for i in range(len(encoded_plaintext)):\n",
    "            encoded_plaintext[i] = ciphertext[i] ^^ key[i]\n",
    "        try:\n",
    "            decoded_plaintext = encoded_plaintext.decode(\"utf-16be\")\n",
    "        except:\n",
    "            a\n",
    "        if decoded_plaintext[0] == '\\x00':\n",
    "            plaintext = decoded_plaintext\n",
    "            print p, a, plaintext"
   ]
  },
  {
   "cell_type": "markdown",
   "metadata": {},
   "source": [
    "### Order of the group is P => all the values except 0 has order P\n",
    "Key has odd length => I probably see the repetition * 2 (need to compare at bit-level, no byte-level)."
   ]
  },
  {
   "cell_type": "code",
   "execution_count": null,
   "metadata": {},
   "outputs": [],
   "source": []
  }
 ],
 "metadata": {
  "kernelspec": {
   "display_name": "SageMath 8.2",
   "language": "",
   "name": "sagemath"
  },
  "language_info": {
   "codemirror_mode": {
    "name": "ipython",
    "version": 2
   },
   "file_extension": ".py",
   "mimetype": "text/x-python",
   "name": "python",
   "nbconvert_exporter": "python",
   "pygments_lexer": "ipython2",
   "version": "2.7.14"
  }
 },
 "nbformat": 4,
 "nbformat_minor": 2
}
