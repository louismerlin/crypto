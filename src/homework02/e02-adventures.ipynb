{
 "cells": [
  {
   "cell_type": "markdown",
   "metadata": {},
   "source": [
    "## Exercise 2 ~ The Adventures of the Crypto-Apprentice: Generalized Vernam Cipher With Key Expansion"
   ]
  },
  {
   "cell_type": "code",
   "execution_count": 1,
   "metadata": {},
   "outputs": [],
   "source": [
    "# Get variable from parameters file\n",
    "import utils\n",
    "params = utils.get_parameters()"
   ]
  },
  {
   "cell_type": "code",
   "execution_count": 2,
   "metadata": {},
   "outputs": [],
   "source": [
    "c2 = params.c2"
   ]
  },
  {
   "cell_type": "markdown",
   "metadata": {},
   "source": [
    "### The Fellowship of the String"
   ]
  },
  {
   "cell_type": "markdown",
   "metadata": {},
   "source": [
    "UTF-16BE adds `\\x00` (NULL) between every ASCII character.\n",
    "\n",
    "This means that one out of every two bytes in the ciphertext is the \"null\" character (`00000000` in binary) XORed with the cipherkey.\n",
    "\n",
    "This means that one of every two bytes **is** the cipherkey."
   ]
  },
  {
   "cell_type": "code",
   "execution_count": 3,
   "metadata": {},
   "outputs": [],
   "source": [
    "c2_bin = bin(int(c2, 16))[2:]"
   ]
  },
  {
   "cell_type": "markdown",
   "metadata": {},
   "source": [
    "Le's get every possible prime value that respect the exercise statement :"
   ]
  },
  {
   "cell_type": "code",
   "execution_count": 4,
   "metadata": {},
   "outputs": [],
   "source": [
    "possible_primes = [\n",
    "    p for p in range(len(c2) / 2 * 4)\n",
    "        if is_prime(p) and (p - 1) % 16 == 0\n",
    "]"
   ]
  },
  {
   "cell_type": "code",
   "execution_count": 5,
   "metadata": {},
   "outputs": [
    {
     "name": "stdout",
     "output_type": "stream",
     "text": [
      "259\n"
     ]
    }
   ],
   "source": [
    "print len(possible_primes)"
   ]
  },
  {
   "cell_type": "markdown",
   "metadata": {},
   "source": [
    "### The Two Values"
   ]
  },
  {
   "cell_type": "markdown",
   "metadata": {},
   "source": [
    "Now, for every (prime, a) pair, let's incrementaly compare the keys they generate with what we know from the key (thanks to the key leak in the ciphertext) :"
   ]
  },
  {
   "cell_type": "code",
   "execution_count": 6,
   "metadata": {},
   "outputs": [],
   "source": [
    "# key_bit computes the bit at index (i, j) for prime p and value a\n",
    "def key_bit(p, a, j, i=0):\n",
    "    return mod(mod(((8 * i + j + 1) * a), p), 2)"
   ]
  },
  {
   "cell_type": "code",
   "execution_count": 7,
   "metadata": {},
   "outputs": [],
   "source": [
    "# verify_key verifies the key for a given byte i\n",
    "def verify_key(p, a, i=0):\n",
    "    j = 0\n",
    "    while str(key_bit(p, a, j, i)) == c2_bin[j+8*i] and j < 8:\n",
    "        j += 1\n",
    "    if j >= 8:\n",
    "        return True"
   ]
  },
  {
   "cell_type": "code",
   "execution_count": 8,
   "metadata": {},
   "outputs": [],
   "source": [
    "# filter_by_comparing_with_byte calls verify_key for every (p, a) pair in the global list possible_pairs\n",
    "def filter_by_comparing_with_byte(i):\n",
    "    global possible_pairs\n",
    "    poss = []\n",
    "    c = c2_bin[0:(i+1)*8]\n",
    "    for (p, a) in possible_pairs:\n",
    "        if verify_key(p, a, i):\n",
    "            poss.append((p, a))\n",
    "    possible_pairs = poss"
   ]
  },
  {
   "cell_type": "code",
   "execution_count": 9,
   "metadata": {},
   "outputs": [],
   "source": [
    "possible_pairs = []\n",
    "\n",
    "# Add all pairs (p, a) of (prime, a value) that satisfy the first byte\n",
    "for p in possible_primes:\n",
    "    for a in range(0, p):\n",
    "        if verify_key(p, a):\n",
    "            possible_pairs.append((p, a))\n",
    "\n",
    "# Filter possible_pairs until there is only one possible value left\n",
    "j = 2\n",
    "while len(possible_pairs) > 1:\n",
    "    j += 2\n",
    "    filter_by_comparing_with_byte(j)"
   ]
  },
  {
   "cell_type": "markdown",
   "metadata": {},
   "source": [
    "### The Return of the Key"
   ]
  },
  {
   "cell_type": "code",
   "execution_count": 10,
   "metadata": {},
   "outputs": [],
   "source": [
    "# decode_binary_string will decode a binary string using a given encoding [FOUND ON STACKOVERFLOW]\n",
    "def decode_binary_string(s, encoding='UTF-8'):\n",
    "    byte_string = ''.join(chr(int(s[i*8:i*8+8],2)) for i in range(len(s)//8))\n",
    "    return byte_string.decode(encoding)"
   ]
  },
  {
   "cell_type": "code",
   "execution_count": 11,
   "metadata": {},
   "outputs": [],
   "source": [
    "# key_builder will generate a key of length l for parameters (p, a)\n",
    "def key_builder(p, a, l):\n",
    "    bit_list = [mod(mod(((8 * i + j + 1) * a), p), 2) for i in range((l // 8) + 1) for j in range(8)]\n",
    "    bit_string = \"\".join([str(b) for b in bit_list])\n",
    "    return bit_string"
   ]
  },
  {
   "cell_type": "code",
   "execution_count": 12,
   "metadata": {
    "scrolled": true
   },
   "outputs": [
    {
     "name": "stdout",
     "output_type": "stream",
     "text": [
      "Much that once was is lost, for none now live who remember it. It began with the forging of the Great Rings. Three were given to the Elves, immortal, wisest and fairest of all beings. Seven to the Dwarf-Lords, great miners and craftsmen of the mountain halls. And nine, nine rings were gifted to the race of Men, who above all else desire power. For within these rings was bound the strength and the will to govern each race. But they were all of them deceived, for another ring was made. Deep in the land of Clasp, in the Fires of Mount Turfed, the Dark Lord Sauron forged a master ring, and into this ring he poured his cruelty, his malice and his will to dominate all life. One ring to rule them all. One by one, the free lands of Rhomboid fell to the power of the Ring, but there were some who resisted. A last alliance of men and elves marched against the armies of Clasp, and on the very slopes of Mount Turfed, they fought for the freedom of Rhomboid. Victory was near, but the power of the ring could not be undone. It was in this moment, when all hope had faded, that Isildur, son of the king, took up his father's sword. Sauron, enemy of the free peoples of Rhomboid, was defeated. The Ring passed to Isildur, who had this one chance to destroy evil forever, but the hearts of men are easily corrupted. And the ring of power has a will of its own. It betrayed Isildur, to his death. And some things that should not have been forgotten were lost. History became legend. Legend became myth. And for two and a half thousand years, the ring passed out of all knowledge. Until, when chance came, it ensnared another bearer. It came to the creature Gollum, who took it deep into the tunnels of the Misty Mountains. And there it consumed him. The ring gave to Gollum unnatural long life. For five hundred years it poisoned his mind, and in the gloom of Gollum's cave, it waited. Darkness crept back into the forests of the world. Rumor grew of a shadow in the East, whispers of a nameless fear, and the Ring of Power perceived its time had come. It abandoned Gollum, but then something happened that the Ring did not intend. It was picked up by the most unlikely creature imaginable: a hobbit, Bilbo Baggins, of the Farting. For the time will soon come when hobbits will shape the fortunes of all.\n"
     ]
    }
   ],
   "source": [
    "# (p, a) is the only remaining pair\n",
    "(p, a) = possible_pairs[0]\n",
    "\n",
    "ciphertext = c2_bin\n",
    "\n",
    "key = key_builder(p, a, len(ciphertext))\n",
    "\n",
    "binary_plaintext = []\n",
    "\n",
    "# We xor the ciphertext with the key to get the plaintext\n",
    "for i in range(len(ciphertext)):\n",
    "    binary_plaintext.append(str(int(ciphertext[i]) ^^ int(key[i])))\n",
    "\n",
    "# we decode the encoded binary string\n",
    "plaintext = decode_binary_string(''.join(binary_plaintext), 'UTF-16BE')\n",
    "\n",
    "# LOTR <3\n",
    "print plaintext"
   ]
  }
 ],
 "metadata": {
  "kernelspec": {
   "display_name": "SageMath 8.2",
   "language": "",
   "name": "sagemath"
  },
  "language_info": {
   "codemirror_mode": {
    "name": "ipython",
    "version": 2
   },
   "file_extension": ".py",
   "mimetype": "text/x-python",
   "name": "python",
   "nbconvert_exporter": "python",
   "pygments_lexer": "ipython2",
   "version": "2.7.14"
  }
 },
 "nbformat": 4,
 "nbformat_minor": 2
}
