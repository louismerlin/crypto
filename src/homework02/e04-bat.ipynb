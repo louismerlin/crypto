{
 "cells": [
  {
   "cell_type": "markdown",
   "metadata": {},
   "source": [
    "## Exercise 4 ~ Bat-Crypt, Diffie-Helman Over The Linear Group"
   ]
  },
  {
   "cell_type": "code",
   "execution_count": 1,
   "metadata": {},
   "outputs": [],
   "source": [
    "import utils\n",
    "params = utils.get_parameters()"
   ]
  },
  {
   "cell_type": "code",
   "execution_count": 2,
   "metadata": {},
   "outputs": [],
   "source": [
    "p = params.Q4_p\n",
    "generator = params.Q4_generator\n",
    "public_key = params.Q4_public_key\n",
    "ciphertext = params.Q4_ciphertext"
   ]
  },
  {
   "cell_type": "code",
   "execution_count": 3,
   "metadata": {},
   "outputs": [
    {
     "name": "stdout",
     "output_type": "stream",
     "text": [
      "96538516142491609201001183140716237408771643414563281785509773958215618205491\n"
     ]
    }
   ],
   "source": [
    "print p"
   ]
  },
  {
   "cell_type": "code",
   "execution_count": 4,
   "metadata": {},
   "outputs": [
    {
     "name": "stdout",
     "output_type": "stream",
     "text": [
      "[[1, 9755541214773880370455590181497445089382101474575919467783169237828173370163L], [0, 1]]\n"
     ]
    }
   ],
   "source": [
    "print generator"
   ]
  },
  {
   "cell_type": "code",
   "execution_count": 5,
   "metadata": {},
   "outputs": [
    {
     "name": "stdout",
     "output_type": "stream",
     "text": [
      "[(1, 33906856092488664295357077469534409347804241532025322792488556687489423649926L), (0, 1)]\n"
     ]
    }
   ],
   "source": [
    "print public_key"
   ]
  },
  {
   "cell_type": "code",
   "execution_count": 6,
   "metadata": {},
   "outputs": [
    {
     "name": "stdout",
     "output_type": "stream",
     "text": [
      "([(1, 94522555912585409396584579746074023198382479296213669680238972363789579038744L), (0, 1)], [(2854012442613149562933559280891785381842078928066066123144885184506380317804L, 43969226688779470729094085574287315883239645309915423036332994660068898872689L), (64967421248684864379889327593325353110390216977711986294038512996956299557015L, 7339505830888704565540323351330274914845452103920341534257862753661522891484L)])\n"
     ]
    }
   ],
   "source": [
    "print ciphertext"
   ]
  },
  {
   "cell_type": "code",
   "execution_count": 7,
   "metadata": {},
   "outputs": [],
   "source": [
    "ring = IntegerModRing(p)"
   ]
  },
  {
   "cell_type": "markdown",
   "metadata": {},
   "source": [
    "### What we know\n",
    "\n",
    "- $S_a$ : random in $Z_{p-1}$\n",
    "- $r$ : $generator^{S_a}$\n",
    "- $s$ : $PK^{S_a}$\n",
    "- $c$ : $(r, sm)$"
   ]
  },
  {
   "cell_type": "code",
   "execution_count": 8,
   "metadata": {},
   "outputs": [],
   "source": [
    "r = Matrix(ZZ.quo(p * ZZ), ciphertext[0])\n",
    "C = Matrix(ZZ.quo(p * ZZ), ciphertext[1])"
   ]
  },
  {
   "cell_type": "code",
   "execution_count": 9,
   "metadata": {},
   "outputs": [],
   "source": [
    "gen = Matrix(ZZ.quo(p * ZZ), generator)"
   ]
  },
  {
   "cell_type": "code",
   "execution_count": 10,
   "metadata": {},
   "outputs": [],
   "source": [
    "PK = Matrix(ZZ.quo(p * ZZ), public_key)"
   ]
  },
  {
   "cell_type": "markdown",
   "metadata": {},
   "source": [
    "### What we can see\n",
    "\n",
    "$C=sm=PK^{S_a}m=\\begin{pmatrix}1 & x \\\\ 0 & 1\\end{pmatrix}\\begin{pmatrix}a & b \\\\ c & d\\end{pmatrix}=\\begin{pmatrix}a+xc & b+xd \\\\ c & d\\end{pmatrix}$\n",
    "\n",
    "This means we know $c$ and $d$ !\n",
    "\n",
    "In this formula, we have $x=PK_{0,1}^{S_a}$"
   ]
  },
  {
   "cell_type": "code",
   "execution_count": 11,
   "metadata": {},
   "outputs": [],
   "source": [
    "c = C[1][0].lift()\n",
    "d = C[1][1].lift()"
   ]
  },
  {
   "cell_type": "markdown",
   "metadata": {},
   "source": [
    "### Oh no batman, what have you done ?\n",
    "\n",
    "It looks like $r = g^{S_a} = \\begin{pmatrix}1 & g_{0,1}\\\\ 0 & 1\\end{pmatrix}^{S_a} = \\begin{pmatrix}1 & S_a\\times g_{0,1} \\\\ 0 & 1\\end{pmatrix}$\n",
    "\n",
    "This means we can more than easily compute $S_a$, to the great shock of both Batman and Alfred :"
   ]
  },
  {
   "cell_type": "code",
   "execution_count": 12,
   "metadata": {},
   "outputs": [],
   "source": [
    "Sa = ring(r[0, 1]) / ring(gen[0, 1]) "
   ]
  },
  {
   "cell_type": "markdown",
   "metadata": {},
   "source": [
    "Now that we know $S_a$, Batman cannot hide his secrets from us anymore."
   ]
  },
  {
   "cell_type": "code",
   "execution_count": 13,
   "metadata": {},
   "outputs": [],
   "source": [
    "x = PK[0, 1] * Sa"
   ]
  },
  {
   "cell_type": "code",
   "execution_count": 14,
   "metadata": {},
   "outputs": [],
   "source": [
    "a = ring(C[0, 0].lift() - x * c)\n",
    "b = ring(C[0, 1].lift() - x * d)"
   ]
  },
  {
   "cell_type": "code",
   "execution_count": 15,
   "metadata": {},
   "outputs": [
    {
     "name": "stdout",
     "output_type": "stream",
     "text": [
      "72183823406034509235986586944502383596377699130816560539868646933200483877969\n",
      "95718758738497920252346111702638870293528859908622092482544148559048233181545\n",
      "64967421248684864379889327593325353110390216977711986294038512996956299557015\n",
      "7339505830888704565540323351330274914845452103920341534257862753661522891484\n"
     ]
    }
   ],
   "source": [
    "print a\n",
    "print b\n",
    "print c\n",
    "print d"
   ]
  },
  {
   "cell_type": "code",
   "execution_count": null,
   "metadata": {},
   "outputs": [],
   "source": []
  }
 ],
 "metadata": {
  "kernelspec": {
   "display_name": "SageMath 8.2",
   "language": "",
   "name": "sagemath"
  },
  "language_info": {
   "codemirror_mode": {
    "name": "ipython",
    "version": 2
   },
   "file_extension": ".py",
   "mimetype": "text/x-python",
   "name": "python",
   "nbconvert_exporter": "python",
   "pygments_lexer": "ipython2",
   "version": "2.7.14"
  }
 },
 "nbformat": 4,
 "nbformat_minor": 2
}
