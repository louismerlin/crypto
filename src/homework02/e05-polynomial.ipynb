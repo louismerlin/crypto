{
 "cells": [
  {
   "cell_type": "markdown",
   "metadata": {},
   "source": [
    "## Exercise 5 ~ Polynomial Encryption Scheme"
   ]
  },
  {
   "cell_type": "code",
   "execution_count": 1,
   "metadata": {},
   "outputs": [],
   "source": [
    "import random\n",
    "import utils\n",
    "params = utils.get_parameters()"
   ]
  },
  {
   "cell_type": "code",
   "execution_count": 2,
   "metadata": {},
   "outputs": [],
   "source": [
    "# p: a large public prime\n",
    "p = Integer(params.Q5_p)\n",
    "\n",
    "# y: the private key for part 2\n",
    "y = Integer(params.Q5b_y)\n",
    "\n",
    "# z: the random number for encryption in part 1\n",
    "z = Integer(params.Q5a_z)"
   ]
  },
  {
   "cell_type": "code",
   "execution_count": 3,
   "metadata": {},
   "outputs": [],
   "source": [
    "ring = IntegerModRing(p)\n",
    "Ring.<x> = PolynomialRing(ring)"
   ]
  },
  {
   "cell_type": "code",
   "execution_count": 4,
   "metadata": {},
   "outputs": [],
   "source": [
    "# P: a public reducible polynomial of degree k > 0\n",
    "# Used for modulation\n",
    "P = Ring(params.Q5_P)\n",
    "\n",
    "# G: a public reducible polynomial of degree k > 0\n",
    "# Used as a base\n",
    "G = Ring(params.Q5_G)\n",
    "\n",
    "# Y: a public reducible polynomial of degree k > 0\n",
    "# Used as the public key in part 1\n",
    "Y = Ring(params.Q5a_Y)\n",
    "\n",
    "# M: a public reducible polynomial of degree k > 0\n",
    "# Used as encrypted data in part 1\n",
    "M = Ring(params.Q5a_M)\n",
    "\n",
    "# Z: a reducible polynomial of degree k > 0\n",
    "# Z=G^{z_2}, used in part 2\n",
    "Z = Ring(params.Q5b_Z)\n",
    "\n",
    "# V: a reducible polynomial of degree k > 0\n",
    "# Encrypted message to decrypt in part 2\n",
    "V = Ring(params.Q5b_V)"
   ]
  },
  {
   "cell_type": "markdown",
   "metadata": {},
   "source": [
    "We build `QRing`, the ring of polynomials modulo $P$."
   ]
  },
  {
   "cell_type": "code",
   "execution_count": 5,
   "metadata": {},
   "outputs": [],
   "source": [
    "QRing.<x> = Ring.quotient(P)"
   ]
  },
  {
   "cell_type": "markdown",
   "metadata": {},
   "source": [
    "### 1. Encrypt $M(x)$ for the public key $Y(x)$ by using the integer $z$"
   ]
  },
  {
   "cell_type": "code",
   "execution_count": 6,
   "metadata": {},
   "outputs": [],
   "source": [
    "# Encryption algorithm\n",
    "def encrypt(G, Y, M, z):\n",
    "    # 1: Sample z from { 0, 1, ..., n-1 }\n",
    "    # 2: Z(x) <- (G(x))^z mod P(x)\n",
    "    Z = QRing(G) ** z\n",
    "    # 3: V(x) <- M(x) * (Y(x))^z mod P(x)\n",
    "    V = QRing(M) * (QRing(Y) ** z)\n",
    "    # 4: return (Z(x), V(x))\n",
    "    return (Z, V)"
   ]
  },
  {
   "cell_type": "code",
   "execution_count": 7,
   "metadata": {
    "scrolled": true
   },
   "outputs": [],
   "source": [
    "a_Z, a_V = encrypt(G, Y, M, z)"
   ]
  },
  {
   "cell_type": "code",
   "execution_count": 8,
   "metadata": {},
   "outputs": [
    {
     "name": "stdout",
     "output_type": "stream",
     "text": [
      "225908100365443684627306957924584923*x^16 + 38288812065621670387851925324921584*x^15 + 220746096145500473829711170083446554*x^14 + 64488510482324258144802004375227464*x^13 + 112687822123130875554237550668201034*x^12 + 476728348298306181635479343932709082*x^11 + 286569228701237719156121883478877783*x^10 + 144651844568979744198085562118925311*x^9 + 162735568017991734164720037662573479*x^8 + 538820669586962493187829763983808048*x^7 + 72131441992823027199706500722730450*x^6 + 82338937875812413136638724593009818*x^5 + 644214900178284851076679780873178607*x^4 + 181842784107414246180627179777111307*x^3 + 572083026649562563683756466345767486*x^2 + 277769076800908100739374495022601031*x + 485557968317910457471890026994886642\n",
      "443766152124804919445034718980552468*x^16 + 646427559877355027502943381127693326*x^15 + 323696457239519122274690270026981104*x^14 + 366804946919289785422697218673359581*x^13 + 291616180259097720193194897959488231*x^12 + 23660637528384932031137307997328128*x^11 + 117880776627751316188065802286636397*x^10 + 397193539626484002656879811963756721*x^9 + 635612693730531465019670942589686066*x^8 + 510107940557188058826394367687916779*x^7 + 346854352477020786635863653899987833*x^6 + 469822117187279317457750250724247140*x^5 + 519076906739124041154798310152505090*x^4 + 232499798263233639265666373676389578*x^3 + 478024746224901568951894998074503238*x^2 + 258156594141229036778481241492426844*x + 140805839567831411403988310203816177\n"
     ]
    }
   ],
   "source": [
    "print a_Z\n",
    "print a_V"
   ]
  },
  {
   "cell_type": "markdown",
   "metadata": {},
   "source": [
    "### 2. Decrypt $Z(x)$, $V(x)$ with the secret key $y$"
   ]
  },
  {
   "cell_type": "markdown",
   "metadata": {},
   "source": [
    "$A(x)=Z^y(x)=G^{zy}(x)=Y^z(x)$\n",
    "\n",
    "$V(x)\\times H^{-1}(x)=M(x)$"
   ]
  },
  {
   "cell_type": "code",
   "execution_count": 9,
   "metadata": {},
   "outputs": [],
   "source": [
    "# Decryption algorithm\n",
    "def decrypt(Z, V, y):\n",
    "    # 1: A(x) <- (Z(x))^y mod P(x)\n",
    "    A = QRing(Z) ** y\n",
    "    # 2: B(x) <- (A(x))^-1 mod P(x)\n",
    "    B = QRing(A) ** -1\n",
    "    # 3: M(x) <- V(x) * B(x) mod P(x)\n",
    "    M = V * B\n",
    "    # 4: return M(x)\n",
    "    return M"
   ]
  },
  {
   "cell_type": "code",
   "execution_count": 10,
   "metadata": {},
   "outputs": [],
   "source": [
    "b_M = decrypt(Z, V, y)"
   ]
  },
  {
   "cell_type": "code",
   "execution_count": 11,
   "metadata": {
    "scrolled": true
   },
   "outputs": [
    {
     "name": "stdout",
     "output_type": "stream",
     "text": [
      "503872880176649919187500647298316272*x^16 + 448108830212726884195635070845879966*x^15 + 40142176636285399918280438448300632*x^14 + 545235221455774785336133991069896063*x^13 + 624103169448316473411194704127776080*x^12 + 422957851022610057192913669426144858*x^11 + 539858395160763652194579794579767763*x^10 + 405191785295021611611097957015438901*x^9 + 325546388948605779361074857529948791*x^8 + 661733762726954561371271906315852834*x^7 + 497710875828618858689680214284131868*x^6 + 283508675643580136908811425697299200*x^5 + 167853340820944549302371557532309047*x^4 + 445579911746622424641985456428136658*x^3 + 337126671827574694981362335395032279*x^2 + 157940171676356532805653092288576637*x + 654765336382858625101155794138000514\n"
     ]
    }
   ],
   "source": [
    "print b_M"
   ]
  }
 ],
 "metadata": {
  "kernelspec": {
   "display_name": "SageMath 8.2",
   "language": "",
   "name": "sagemath"
  },
  "language_info": {
   "codemirror_mode": {
    "name": "ipython",
    "version": 2
   },
   "file_extension": ".py",
   "mimetype": "text/x-python",
   "name": "python",
   "nbconvert_exporter": "python",
   "pygments_lexer": "ipython2",
   "version": "2.7.14"
  }
 },
 "nbformat": 4,
 "nbformat_minor": 2
}
