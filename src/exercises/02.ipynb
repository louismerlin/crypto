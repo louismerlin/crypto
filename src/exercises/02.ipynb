{
 "cells": [
  {
   "cell_type": "markdown",
   "metadata": {},
   "source": [
    "##### *Cryptography and Security 2019*\n",
    "\n",
    "# Exercise Sheet 2\n",
    "\n",
    "## Exercise 1 ~ Coprime"
   ]
  },
  {
   "cell_type": "code",
   "execution_count": 1,
   "metadata": {},
   "outputs": [
    {
     "name": "stdout",
     "output_type": "stream",
     "text": [
      "Coprimes of 100\n",
      "1 3 7 9 11 13 17 19 21 23 27 29 31 33 37 39 41 43 47 49 51 53 57 59 61 63 67 69 71 73 77 79 81 83 87 89 91 93 97 99 "
     ]
    }
   ],
   "source": [
    "import sys\n",
    "\n",
    "def mycoprime(n):\n",
    "    print \"Coprimes of\", str(n)\n",
    "    for i in range(n):\n",
    "        if gcd(i, n) == 1:\n",
    "            sys.stdout.write(str(i) + ' ')\n",
    "\n",
    "mycoprime(100)"
   ]
  },
  {
   "cell_type": "markdown",
   "metadata": {},
   "source": [
    "## Exercise 2 ~ Goldbach Conjecture"
   ]
  },
  {
   "cell_type": "code",
   "execution_count": 2,
   "metadata": {},
   "outputs": [
    {
     "name": "stdout",
     "output_type": "stream",
     "text": [
      "Verifying Goldbach Conjecture for the first 1000 even integers\n",
      "Verification complete !\n"
     ]
    }
   ],
   "source": [
    "def verify_goldbach(n):\n",
    "    print \"Verifying Goldbach Conjecture for the first\", n, \"even integers\"\n",
    "    \n",
    "    even = 2\n",
    "    for _ in range(n):\n",
    "        \n",
    "        prime = 1\n",
    "        while prime < even:\n",
    "            if is_prime(even - prime):\n",
    "                break\n",
    "            prime = next_prime(prime)\n",
    "            \n",
    "        if prime > even:\n",
    "            print \"The Conjecture is False !\"\n",
    "            return\n",
    "\n",
    "        even += 2\n",
    "        \n",
    "    print \"Verification complete !\"\n",
    "\n",
    "verify_goldbach(1000)"
   ]
  },
  {
   "cell_type": "markdown",
   "metadata": {},
   "source": [
    "## Exercise 3 ~ Multiplicative Group"
   ]
  },
  {
   "cell_type": "code",
   "execution_count": 3,
   "metadata": {},
   "outputs": [
    {
     "name": "stdout",
     "output_type": "stream",
     "text": [
      "Multiplicative group is not cyclic\n",
      "Generators: Multiplicative Abelian group isomorphic to C2 x C4 x C10 x C36\n",
      "Generator elements: (8141, 7327, 11101, 3961)\n",
      "Lagrange is Verified !\n"
     ]
    }
   ],
   "source": [
    "def mult_group(n):\n",
    "    ring = Zmod(n)\n",
    "    cyclic = ring.multiplicative_group_is_cyclic()\n",
    "    if cyclic:\n",
    "        print \"Multiplicative group is cyclic\"\n",
    "    else:\n",
    "        print \"Multiplicative group is not cyclic\"\n",
    "    unit_group = ring.unit_group()\n",
    "    print \"Generators:\", unit_group\n",
    "    print \"Generator elements:\", unit_group.gens_values()\n",
    "    lagrange = unit_group.order().divides(len(unit_group))\n",
    "    if lagrange:\n",
    "        print \"Lagrange is Verified !\"\n",
    "    else:\n",
    "        print \"Oh no ! Lagrange is Wrong !\"\n",
    "\n",
    "mult_group(12210)"
   ]
  },
  {
   "cell_type": "markdown",
   "metadata": {},
   "source": [
    "## Exercise 4 ~ Perfect Power"
   ]
  },
  {
   "cell_type": "code",
   "execution_count": 4,
   "metadata": {},
   "outputs": [
    {
     "name": "stdout",
     "output_type": "stream",
     "text": [
      "(34567, 7)\n",
      "(123, 1237)\n",
      "False\n"
     ]
    }
   ],
   "source": [
    "def perfect_power(n):\n",
    "    factor = n.factor()\n",
    "    power = factor[0][1]\n",
    "    x = 1\n",
    "    for i in range(len(factor)):\n",
    "        if factor[i][1] != power:\n",
    "            return False\n",
    "        x *= factor[i][0]\n",
    "    return (x, power)\n",
    "    \n",
    "print perfect_power(58970095006532229779230122168823)\n",
    "print perfect_power(123^1237)\n",
    "print perfect_power(456456456)"
   ]
  }
 ],
 "metadata": {
  "kernelspec": {
   "display_name": "SageMath 8.2",
   "language": "",
   "name": "sagemath"
  },
  "language_info": {
   "codemirror_mode": {
    "name": "ipython",
    "version": 2
   },
   "file_extension": ".py",
   "mimetype": "text/x-python",
   "name": "python",
   "nbconvert_exporter": "python",
   "pygments_lexer": "ipython2",
   "version": "2.7.14"
  }
 },
 "nbformat": 4,
 "nbformat_minor": 2
}
