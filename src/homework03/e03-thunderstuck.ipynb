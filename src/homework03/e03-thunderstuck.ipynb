{
 "cells": [
  {
   "cell_type": "markdown",
   "metadata": {},
   "source": [
    "## Exercise 3 ~ Thunderstuck!"
   ]
  },
  {
   "cell_type": "code",
   "execution_count": 1,
   "metadata": {},
   "outputs": [],
   "source": [
    "# Get variable from parameters file\n",
    "import utils\n",
    "params = utils.get_parameters()"
   ]
  },
  {
   "cell_type": "code",
   "execution_count": 2,
   "metadata": {},
   "outputs": [],
   "source": [
    "transcript = params.Q3_transcript\n",
    "N = params.Q3_N"
   ]
  },
  {
   "cell_type": "markdown",
   "metadata": {},
   "source": [
    "### Variables:\n",
    "\n",
    "- Public key $(N, e)$\n",
    "- $p$ and $q$, RSA primes\n",
    "- Secret key $s$, a fairly large exponent\n",
    "\n",
    "### Encryption:\n",
    "\n",
    "Plain RSA.\n",
    "\n",
    "### Decryption:\n",
    "\n",
    "RSA with CRT for more performance (see slide #271).\n",
    "\n",
    "### Given:\n",
    "\n",
    "$N$ and some (ciphertext, plaintext) pairs, with some that were not done correctly.\n",
    "\n",
    "### Errors:\n",
    "\n",
    "During the computation of $m^d$ in the decryption, voltage spikes caused errors.\n",
    "\n",
    "### Goal:\n",
    "\n",
    "Factorize N and give the **larger** prime divisor of N."
   ]
  },
  {
   "cell_type": "markdown",
   "metadata": {},
   "source": [
    "### Decryption mechanism\n",
    "\n",
    "With\n",
    "\n",
    "$a=(m\\ \\textrm{mod}\\ p)^{s\\ \\textrm{mod}\\ (p-1)}\\ \\textrm{mod}\\ p$\n",
    "\n",
    "$b=(m\\ \\textrm{mod}\\ q)^{s\\ \\textrm{mod}\\ (q-1)}\\ \\textrm{mod}\\ q$\n",
    "\n",
    "$y^s\\ \\textrm{mod}\\ pq=ap(p^{-1}\\ \\textrm{mod}\\ q)+bq(q^{-1}\\ \\textrm{mod}\\ p)\\ (\\textrm{mod}\\ pq)$"
   ]
  },
  {
   "cell_type": "markdown",
   "metadata": {},
   "source": [
    "### Zap\n",
    "\n",
    "We find the pairs where the ciphertext is present more than once in the dataset (which means that we have a wrong plaintext and the right plaintext) :"
   ]
  },
  {
   "cell_type": "code",
   "execution_count": 3,
   "metadata": {},
   "outputs": [],
   "source": [
    "dups = set()\n",
    "for (i, (u, v)) in enumerate(transcript):\n",
    "    d = [j for (j, (u2, v2)) in enumerate(transcript) if u2 == u]\n",
    "    if len(d) == 2:\n",
    "        dups.add((transcript[d[0]][1], transcript[d[1]][1]))"
   ]
  },
  {
   "cell_type": "markdown",
   "metadata": {},
   "source": [
    "### CRT\n",
    "\n",
    "A theory of what the zap does is that one of the two exponentiations during the decryption is set to 0.\n",
    "\n",
    "This would mean that the difference between a real plaintext and a wrong plaintext would be divisible by p or q !"
   ]
  },
  {
   "cell_type": "code",
   "execution_count": 4,
   "metadata": {},
   "outputs": [],
   "source": [
    "# We get the absolute differences beween the plaintexts of the dups list\n",
    "diffs = [abs(u1 - u2) for (u1, u2) in dups]"
   ]
  },
  {
   "cell_type": "markdown",
   "metadata": {},
   "source": [
    "In order to find p or q, we can now get the gcd of, for example, the first element with every other element. p or q would have to be one of those gcds if the theory is correct."
   ]
  },
  {
   "cell_type": "code",
   "execution_count": 5,
   "metadata": {},
   "outputs": [
    {
     "name": "stdout",
     "output_type": "stream",
     "text": [
      "9195717468371647099146433968353552538002297448971726285439273707898124547771394001981043862107843557766876090106640968634345125678887337236969767590825217\n"
     ]
    }
   ],
   "source": [
    "gcds = [gcd(diffs[0], d) for d in diffs[1:]]\n",
    "\n",
    "for p in gcds:\n",
    "    if N // p == N / p and p != 1:\n",
    "        q = N // p\n",
    "        if p > q:\n",
    "            print p\n",
    "        else:\n",
    "            print q\n",
    "        break"
   ]
  },
  {
   "cell_type": "markdown",
   "metadata": {},
   "source": [
    "The theory was correct ! We have found Batman's secret key."
   ]
  }
 ],
 "metadata": {
  "kernelspec": {
   "display_name": "SageMath 8.2",
   "language": "",
   "name": "sagemath"
  },
  "language_info": {
   "codemirror_mode": {
    "name": "ipython",
    "version": 2
   },
   "file_extension": ".py",
   "mimetype": "text/x-python",
   "name": "python",
   "nbconvert_exporter": "python",
   "pygments_lexer": "ipython2",
   "version": "2.7.14"
  }
 },
 "nbformat": 4,
 "nbformat_minor": 2
}
