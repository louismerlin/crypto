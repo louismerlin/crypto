{
 "cells": [
  {
   "cell_type": "markdown",
   "metadata": {},
   "source": [
    "## Exercise 2 ~ 7 deadly residues"
   ]
  },
  {
   "cell_type": "code",
   "execution_count": 1,
   "metadata": {},
   "outputs": [],
   "source": [
    "# Get variable from parameters file\n",
    "import utils\n",
    "params = utils.get_parameters()"
   ]
  },
  {
   "cell_type": "code",
   "execution_count": 2,
   "metadata": {},
   "outputs": [],
   "source": [
    "n = params.Q2_n\n",
    "factors = params.Q2_factors\n",
    "elements = params.Q2_elements"
   ]
  },
  {
   "cell_type": "markdown",
   "metadata": {},
   "source": [
    "$p$ is a prime such that $p\\equiv1\\ (\\textrm{mod}\\ 7)$.\n",
    "\n",
    "Let $g$ be the smallest generator of $\\mathbb{Z}_p^*$.\n",
    "\n",
    "For $x\\in\\mathbb{Z}_p^*$, $(\\cdot)_p$ is defind such that $(x)_p$ is the value from $\\mathbb{Z}_7$ that satisfies:\n",
    "\n",
    "$$\n",
    "g^{(x)_p}\\cdot z^7\\equiv x\\ (\\textrm{mod}\\ p)\\textrm{ for some }z\\in\\mathbb{Z}_p^*\\textrm{.}\n",
    "$$\n",
    "\n",
    "For $n=p_1\\cdot p_2\\cdot \\cdots \\cdot p_l$ where $p_i\\equiv1\\ \\textrm{mod}\\ 7$ for all $i\\in[1,l]$, and $x\\in\\mathbb{Z}_n^*$:\n",
    "\n",
    "$$\n",
    "(x)_n=((x)_{p_1}+(x)_{p_2}+\\cdots+(x)_{p_l})\\ \\textrm{mod}\\ 7\n",
    "$$"
   ]
  },
  {
   "cell_type": "markdown",
   "metadata": {},
   "source": [
    "### Good residue\n",
    "\n",
    "We can extend the definition of the quadratic residue : an element $x$ is a good residue iff $x^{(p-1)/7}\\equiv1\\ \\textrm{mod}\\ p_i$ for every $p_i$ prime factors of $n$."
   ]
  },
  {
   "cell_type": "markdown",
   "metadata": {},
   "source": [
    "### Fake residue\n",
    "\n",
    "Using the definition of the good residue, we can find the value $(x)_p$ such that $\\frac{x}{g^{(x)_p}}$ is a good residue, and add the $(x)_p$s to get $(x)_n$ ($g$ is a generator of the ring of integers mod $p$)."
   ]
  },
  {
   "cell_type": "code",
   "execution_count": 3,
   "metadata": {},
   "outputs": [
    {
     "name": "stdout",
     "output_type": "stream",
     "text": [
      "[2, 2, 1, 2, 2, 2, 2, 2, 2, 2, 2, 1, 2, 2, 2, 2, 2, 2, 2, 2, 2, 2, 2, 2, 2, 2, 1, 1, 2, 2, 2, 2, 2, 2, 2, 2, 2, 2, 2, 2, 2, 2, 2, 2, 2, 2, 2, 2, 2, 2, 2, 2, 1, 2, 2, 2, 2, 2, 2, 2, 2, 2, 2, 0, 2, 2, 2, 2, 2, 2, 2, 2, 2, 2, 2, 2, 2, 2, 2, 1, 2, 2, 1, 2, 2, 2, 1, 2, 2, 2, 2, 2, 2, 2, 2, 2, 2, 2, 2, 2]\n"
     ]
    }
   ],
   "source": [
    "def classify(x):\n",
    "        \n",
    "    # good residue\n",
    "    # (x ^ ((p-1)/7) == 1 mod p) for every p in factors\n",
    "    is_good_residue = True\n",
    "    for p in factors:\n",
    "        if power_mod(x, (p - 1) // 7, p) != 1:\n",
    "            is_good_residue = False\n",
    "    if is_good_residue:\n",
    "        return 0\n",
    "    \n",
    "    # fake residue\n",
    "    # same criteria, but x is divided by g^x_p with x_p in range(7)\n",
    "    x_n = 0\n",
    "    for p in factors:\n",
    "        ring = IntegerModRing(p)\n",
    "        g = ring.unit_gens()[0]\n",
    "        for x_p in range(7):\n",
    "            if power_mod(ring(x) / ring(g ** x_p), (p - 1) // 7, p) == 1:\n",
    "                x_n += x_p\n",
    "                break\n",
    "    if mod(x_n, 7) == 0:\n",
    "        return 1\n",
    "    \n",
    "    # non residue\n",
    "    return 2\n",
    "\n",
    "result = [classify(x) for x in elements]\n",
    "print result"
   ]
  }
 ],
 "metadata": {
  "kernelspec": {
   "display_name": "SageMath 8.2",
   "language": "",
   "name": "sagemath"
  },
  "language_info": {
   "codemirror_mode": {
    "name": "ipython",
    "version": 2
   },
   "file_extension": ".py",
   "mimetype": "text/x-python",
   "name": "python",
   "nbconvert_exporter": "python",
   "pygments_lexer": "ipython2",
   "version": "2.7.14"
  }
 },
 "nbformat": 4,
 "nbformat_minor": 2
}
