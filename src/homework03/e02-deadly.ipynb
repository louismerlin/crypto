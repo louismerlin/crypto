{
 "cells": [
  {
   "cell_type": "markdown",
   "metadata": {},
   "source": [
    "## Exercise 2 ~ 7 deadly residues"
   ]
  },
  {
   "cell_type": "code",
   "execution_count": 1,
   "metadata": {},
   "outputs": [],
   "source": [
    "# Get variable from parameters file\n",
    "import utils\n",
    "# TEST PARAMETERS TRUE !\n",
    "params = utils.get_parameters(True)"
   ]
  },
  {
   "cell_type": "code",
   "execution_count": 2,
   "metadata": {},
   "outputs": [],
   "source": [
    "n = params.Q2_n\n",
    "factors = params.Q2_factors\n",
    "elements = params.Q2_elements"
   ]
  },
  {
   "cell_type": "markdown",
   "metadata": {},
   "source": [
    "$p$ is a prime such that $p\\equiv1\\ (\\textrm{mod}\\ 7)$.\n",
    "\n",
    "Let $g$ be the smallest generator of $\\mathbb{Z}_p^*$.\n",
    "\n",
    "For $x\\in\\mathbb{Z}_p^*$, $(\\cdot)_p$ is defind such that $(x)_p$ is the value from $\\mathbb{Z}_7$ that satisfies:\n",
    "\n",
    "$$\n",
    "g^{(x)_p}\\cdot z^7\\equiv x\\ (\\textrm{mod}\\ p)\\textrm{ for some }z\\in\\mathbb{Z}_p^*\\textrm{.}\n",
    "$$\n",
    "\n",
    "For $n=p_1\\cdot p_2\\cdot \\cdots \\cdot p_l$ where $p_i\\equiv1\\ \\textrm{mod}\\ 7$ for all $i\\in[1,l]$, and $x\\in\\mathbb{Z}_n^*$:\n",
    "\n",
    "$$\n",
    "(x)_n=((x)_{p_1}+(x)_{p_2}+\\cdots+(x)_{p_l})\\ \\textrm{mod}\\ 7\n",
    "$$"
   ]
  },
  {
   "cell_type": "code",
   "execution_count": 39,
   "metadata": {},
   "outputs": [
    {
     "name": "stdout",
     "output_type": "stream",
     "text": [
      "[(2, 1), (7, 1), (239, 1), (331, 1), (541, 1), (98712602987, 1), (1009944223441, 1), (3082009490051, 1)]\n",
      "True\n"
     ]
    }
   ],
   "source": [
    "p0 = factors[0]\n",
    "r0 = IntegerModRing(p0)\n",
    "g0 = r0.unit_gens()[0]\n",
    "x0 = elements[0]\n",
    "u0 = p0 - 1\n",
    "print(list(factor(u0)))\n",
    "#print([\n",
    "#    [r0((g0 ** i) * (u ** 7)) == r0(x0) for i in range(7)]\n",
    "#    for (u, v) in list(factor(u0))\n",
    "#])\n",
    "#print([r0((g0 ** i) * (x0 ** 7)) == r0(x0) for i in range(7)])\n",
    "print(\n",
    "    all([all([\n",
    "        power_mod(f-1, 7, n) is not e for f in factors\n",
    "    ]) for e in elements ])\n",
    ")"
   ]
  },
  {
   "cell_type": "code",
   "execution_count": null,
   "metadata": {},
   "outputs": [],
   "source": []
  }
 ],
 "metadata": {
  "kernelspec": {
   "display_name": "SageMath 8.2",
   "language": "",
   "name": "sagemath"
  },
  "language_info": {
   "codemirror_mode": {
    "name": "ipython",
    "version": 2
   },
   "file_extension": ".py",
   "mimetype": "text/x-python",
   "name": "python",
   "nbconvert_exporter": "python",
   "pygments_lexer": "ipython2",
   "version": "2.7.14"
  }
 },
 "nbformat": 4,
 "nbformat_minor": 2
}
