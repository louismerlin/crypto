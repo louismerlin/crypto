{
 "cells": [
  {
   "cell_type": "markdown",
   "metadata": {},
   "source": [
    "## Exercise 5 ~ The Adventures of the Crypto-Apprentice: Return Of Vernam Cipher"
   ]
  },
  {
   "cell_type": "code",
   "execution_count": 1,
   "metadata": {},
   "outputs": [],
   "source": [
    "# Get variable from parameters file\n",
    "import utils\n",
    "import binascii\n",
    "params = utils.get_parameters()"
   ]
  },
  {
   "cell_type": "code",
   "execution_count": 2,
   "metadata": {},
   "outputs": [],
   "source": [
    "p = params.Q5_p # the prime number\n",
    "a = params.Q5_a # a first integer\n",
    "b = params.Q5_b # a second integer\n",
    "C = params.Q5_C # the ciphertext\n",
    "y = params.Q5_y # y-coordinate of [2^{2|M'|}]P\n",
    "n = params.Q5_n # the order of the elliptic curve E"
   ]
  },
  {
   "cell_type": "markdown",
   "metadata": {},
   "source": [
    "Random point $P=(P_x,P_y)$ of an elliptic curve $E$ is the shared secret and a seed of the key sequence.\n",
    "\n",
    "Let $K=K_0K_1\\cdots$ be a key sequence. Then:\n",
    "\n",
    "$K_i=\\times([2^i]P)\\ \\textrm{mod}\\ 2$\n",
    "\n",
    "$K_i=1\\ \\textrm{if}\\ [2^i]P\\ \\textrm{is the point at infinity}\\ \\mathcal{O}$\n",
    "\n",
    "Where $\\times(P)=P_x$ and $[2^i]P$ is a scalar multiplication between an integer $2^i$ and a point $P$."
   ]
  },
  {
   "cell_type": "markdown",
   "metadata": {},
   "source": [
    "### Elliptic curve $E$:\n",
    "\n",
    "$E=\\{\\mathcal{O}\\}\\cup\\{(x,y)\\in K^2\\mid y^2=x^3+ax+b\\}$\n",
    "\n",
    "Where $K=\\mathbb{Z}_p$."
   ]
  },
  {
   "cell_type": "markdown",
   "metadata": {},
   "source": [
    "### Also:\n",
    "\n",
    "We are given the $y$-coordinate of $[2^{2\\mid M^\\prime\\mid}]P$"
   ]
  },
  {
   "cell_type": "code",
   "execution_count": 3,
   "metadata": {},
   "outputs": [],
   "source": [
    "G = IntegerModRing(p)"
   ]
  },
  {
   "cell_type": "markdown",
   "metadata": {},
   "source": [
    "First, let's find the solutions of the elliptic curve equation with the given value $y$ :"
   ]
  },
  {
   "cell_type": "code",
   "execution_count": 4,
   "metadata": {},
   "outputs": [
    {
     "name": "stdout",
     "output_type": "stream",
     "text": [
      "[2863630260273906879738304382327082098766838571003235254560, 829539754520273617339926976669563027315213831455604281432, 215435968619537503897656783387023535044104393106441343301]\n"
     ]
    }
   ],
   "source": [
    "R.<u> = PolynomialRing(G, 'u')\n",
    "f = (- y ** 2 + u ** 3 + a * u + b)\n",
    "r = [i[0] for i in f.roots()]\n",
    "print r"
   ]
  },
  {
   "cell_type": "markdown",
   "metadata": {},
   "source": [
    "Now let's get these points in the elliptic curve :"
   ]
  },
  {
   "cell_type": "code",
   "execution_count": 5,
   "metadata": {},
   "outputs": [],
   "source": [
    "E = EllipticCurve(G, [0, 0, 0, a, b])"
   ]
  },
  {
   "cell_type": "code",
   "execution_count": 6,
   "metadata": {},
   "outputs": [],
   "source": [
    "points = [E(i, y) for i in r]"
   ]
  },
  {
   "cell_type": "markdown",
   "metadata": {},
   "source": [
    "We can easily find the possible private keys using the inverse of $2^{2|M'|}$ and the three points ! The apprentice should not have given us the value $y$ !"
   ]
  },
  {
   "cell_type": "code",
   "execution_count": 7,
   "metadata": {},
   "outputs": [],
   "source": [
    "k = inverse_mod(2 ** (2 * len(C)), n)\n",
    "possible_private_keys = [k * point for point in points]"
   ]
  },
  {
   "cell_type": "code",
   "execution_count": 8,
   "metadata": {},
   "outputs": [],
   "source": [
    "# decode_binary_string will decode a binary string using a given encoding [FOUND ON STACKOVERFLOW]\n",
    "def decode_binary_string(s, encoding='utf-8'):\n",
    "    byte_string = ''.join(chr(int(s[i*8:i*8+8],2)) for i in range(len(s)//8))\n",
    "    return byte_string.decode(encoding)\n",
    "\n",
    "def decrypt(P):\n",
    "    plaintext = []\n",
    "    two_i = 1\n",
    "    for i, b in enumerate(C):\n",
    "        Ki = mod((two_i * P)[0], 2)\n",
    "        Mi = mod(Ki + int(b), 2)\n",
    "        plaintext.append(str(Mi))\n",
    "        two_i *= 2\n",
    "    try:\n",
    "        plain = decode_binary_string(''.join(plaintext), 'ascii')\n",
    "        return plain\n",
    "    except:\n",
    "         return ''"
   ]
  },
  {
   "cell_type": "code",
   "execution_count": 9,
   "metadata": {},
   "outputs": [
    {
     "name": "stdout",
     "output_type": "stream",
     "text": [
      "Revenge? Revenge! The King under Raglan is dead and where are his kin that dare seek revenge? Girion Lord of Dwarf is dead, and I have eaten his people like a wolf among sheep, and where are his sons' sons that dare approach me? I kill where I wish and none dare resist. I laid low the warriors of old and their like is not in the world today. Then I was but young and tender. Now I am old and strong, strong, strong, Thief in Siestas!\n"
     ]
    }
   ],
   "source": [
    "for P in possible_private_keys:\n",
    "    d = decrypt(P)\n",
    "    if d != '':\n",
    "        print d\n",
    "        break"
   ]
  }
 ],
 "metadata": {
  "kernelspec": {
   "display_name": "SageMath 8.2",
   "language": "",
   "name": "sagemath"
  },
  "language_info": {
   "codemirror_mode": {
    "name": "ipython",
    "version": 2
   },
   "file_extension": ".py",
   "mimetype": "text/x-python",
   "name": "python",
   "nbconvert_exporter": "python",
   "pygments_lexer": "ipython2",
   "version": "2.7.14"
  }
 },
 "nbformat": 4,
 "nbformat_minor": 2
}
