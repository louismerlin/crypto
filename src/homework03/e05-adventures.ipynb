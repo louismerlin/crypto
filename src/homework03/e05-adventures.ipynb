{
 "cells": [
  {
   "cell_type": "markdown",
   "metadata": {},
   "source": [
    "## The Adventures of the Crypto-Apprentice: Return Of Vernam Cipher"
   ]
  },
  {
   "cell_type": "code",
   "execution_count": 1,
   "metadata": {},
   "outputs": [],
   "source": [
    "# Get variable from parameters file\n",
    "import utils\n",
    "# TEST TRUE\n",
    "params = utils.get_parameters(True)"
   ]
  },
  {
   "cell_type": "code",
   "execution_count": 2,
   "metadata": {},
   "outputs": [],
   "source": [
    "p = params.Q5_p # the prime number\n",
    "a = params.Q5_a # a first integer\n",
    "b = params.Q5_b # a second integer\n",
    "C = params.Q5_C # the ciphertext\n",
    "y = params.Q5_y # y-coordinate of [2^{2|M'|}]P\n",
    "n = params.Q5_n # the order of the elliptic curve E"
   ]
  },
  {
   "cell_type": "markdown",
   "metadata": {},
   "source": [
    "Random point $P=(P_x,P_y)$ of an elliptic curve $E$ is the shared secret and a seed of the key sequence.\n",
    "\n",
    "Let $K=K_0K_1\\cdots$ be a key sequence. Then:\n",
    "\n",
    "$K_i=\\times([2^i]P)\\ \\textrm{mod}\\ 2$\n",
    "\n",
    "$K_i=1\\ \\textrm{if}\\ [2^i]P\\ \\textrm{is the point at infinity}\\ \\mathcal{O}$\n",
    "\n",
    "Where $\\times(P)=P_x$ and $[2^i]P$ is a scalar multiplication between an integer $2^i$ and a point $P$."
   ]
  },
  {
   "cell_type": "markdown",
   "metadata": {},
   "source": [
    "### Elliptic curve $E$:\n",
    "\n",
    "$E=\\{\\mathcal{O}\\}\\cup\\{(x,y)\\in K^2\\mid y^2=x^3+ax+b\\}$\n",
    "\n",
    "Where $K=\\mathbb{Z}_p$."
   ]
  },
  {
   "cell_type": "markdown",
   "metadata": {},
   "source": [
    "### Also:\n",
    "\n",
    "We are given the $y$-coordinate of $[2^{2\\mid M^\\prime\\mid}]P$"
   ]
  },
  {
   "cell_type": "code",
   "execution_count": 9,
   "metadata": {},
   "outputs": [
    {
     "name": "stdout",
     "output_type": "stream",
     "text": [
      "Elliptic Curve defined by y^2 = x^3 + 4269149792681455183695808887060647989789659721763649915308*x + 4431533977174772539512838687644036507710351333992272636725 over Rational Field\n"
     ]
    }
   ],
   "source": [
    "# We build the elliptic curve described in the exercise\n",
    "E = EllipticCurve([0, 0, 0, a, b])\n",
    "print E"
   ]
  },
  {
   "cell_type": "code",
   "execution_count": 10,
   "metadata": {},
   "outputs": [
    {
     "name": "stdout",
     "output_type": "stream",
     "text": [
      "100111010111110010001101000101101111110001001111000001101010111100101000101111000000100111010110101100110001110101101001011101000011001010011100\n"
     ]
    }
   ],
   "source": [
    "print C"
   ]
  },
  {
   "cell_type": "code",
   "execution_count": null,
   "metadata": {},
   "outputs": [],
   "source": []
  }
 ],
 "metadata": {
  "kernelspec": {
   "display_name": "SageMath 8.2",
   "language": "",
   "name": "sagemath"
  },
  "language_info": {
   "codemirror_mode": {
    "name": "ipython",
    "version": 2
   },
   "file_extension": ".py",
   "mimetype": "text/x-python",
   "name": "python",
   "nbconvert_exporter": "python",
   "pygments_lexer": "ipython2",
   "version": "2.7.14"
  }
 },
 "nbformat": 4,
 "nbformat_minor": 2
}
