{
 "cells": [
  {
   "cell_type": "markdown",
   "metadata": {},
   "source": [
    "## Exercise 4 ~ Diffie-Hellman Key Exchange Over $\\mathbb{Z}_p^*$"
   ]
  },
  {
   "cell_type": "code",
   "execution_count": 1,
   "metadata": {},
   "outputs": [],
   "source": [
    "# Get variable from parameters file\n",
    "import utils\n",
    "params = utils.get_parameters()"
   ]
  },
  {
   "cell_type": "code",
   "execution_count": 2,
   "metadata": {},
   "outputs": [],
   "source": [
    "p = Integer(params.Q4_p)\n",
    "g = Integer(params.Q4_g)\n",
    "X = Integer(params.Q4_X)\n",
    "Y = Integer(params.Q4_Y)"
   ]
  },
  {
   "cell_type": "code",
   "execution_count": null,
   "metadata": {},
   "outputs": [],
   "source": [
    "ring = IntegerModRing(p).unit_group()"
   ]
  },
  {
   "cell_type": "code",
   "execution_count": null,
   "metadata": {},
   "outputs": [],
   "source": [
    "print factor(ring.order())"
   ]
  },
  {
   "cell_type": "code",
   "execution_count": null,
   "metadata": {},
   "outputs": [],
   "source": [
    "print all([v == 1 for (u, v) in list(factor(ring.order()))])\n",
    "\n",
    "factors = [u for (u, v) in list(factor(ring.order()))]"
   ]
  },
  {
   "cell_type": "markdown",
   "metadata": {},
   "source": [
    "### Pohlig-Hellman\n",
    "\n",
    "Let's use the [Polhig-Hellman algorithm](https://en.wikipedia.org/wiki/Pohlig%E2%80%93Hellman_algorithm#The_general_algorithm) :"
   ]
  },
  {
   "cell_type": "code",
   "execution_count": null,
   "metadata": {},
   "outputs": [],
   "source": [
    "x_mods = []\n",
    "ring = IntegerModRing(p)\n",
    "\n",
    "# Step 1\n",
    "for i, f in enumerate(factors):\n",
    "    # Substep 1\n",
    "    g_i = ring(power_mod(g, (p - 1) // f, p))\n",
    "    # Substep 2\n",
    "    h_i = ring(power_mod(X, (p - 1) // f, p))\n",
    "    # Substep 3\n",
    "    x_mods.append(discrete_log(h_i, g_i, f))\n",
    "# Step 2\n",
    "x = crt(x_mods, factors)"
   ]
  },
  {
   "cell_type": "code",
   "execution_count": null,
   "metadata": {},
   "outputs": [],
   "source": [
    "print Y.powermod(x, p)"
   ]
  }
 ],
 "metadata": {
  "kernelspec": {
   "display_name": "SageMath 8.2",
   "language": "",
   "name": "sagemath"
  },
  "language_info": {
   "codemirror_mode": {
    "name": "ipython",
    "version": 2
   },
   "file_extension": ".py",
   "mimetype": "text/x-python",
   "name": "python",
   "nbconvert_exporter": "python",
   "pygments_lexer": "ipython2",
   "version": "2.7.14"
  }
 },
 "nbformat": 4,
 "nbformat_minor": 2
}
