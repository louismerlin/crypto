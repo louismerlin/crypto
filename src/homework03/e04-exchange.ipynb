{
 "cells": [
  {
   "cell_type": "markdown",
   "metadata": {},
   "source": [
    "## Exercise 4 ~ Diffie-Hellman Key Exchange Over $\\mathbb{Z}_p^*$"
   ]
  },
  {
   "cell_type": "code",
   "execution_count": 1,
   "metadata": {},
   "outputs": [],
   "source": [
    "# Get variable from parameters file\n",
    "import utils\n",
    "params = utils.get_parameters()"
   ]
  },
  {
   "cell_type": "code",
   "execution_count": 2,
   "metadata": {},
   "outputs": [],
   "source": [
    "p = Integer(params.Q4_p)\n",
    "g = Integer(params.Q4_g)\n",
    "X = Integer(params.Q4_X)\n",
    "Y = Integer(params.Q4_Y)"
   ]
  },
  {
   "cell_type": "code",
   "execution_count": 3,
   "metadata": {},
   "outputs": [],
   "source": [
    "group = IntegerModRing(p).unit_group()"
   ]
  },
  {
   "cell_type": "markdown",
   "metadata": {},
   "source": [
    "Because the order of the ring $p - 1$ is not prime, we can get the factors of $p - 1$ :"
   ]
  },
  {
   "cell_type": "code",
   "execution_count": 4,
   "metadata": {},
   "outputs": [
    {
     "name": "stdout",
     "output_type": "stream",
     "text": [
      "2 * 532751 * 547817 * 550951 * 579713 * 580409 * 604277 * 612371 * 637529 * 656603 * 661541 * 679597 * 702077 * 710837 * 801421 * 803461 * 810769 * 823619 * 826663 * 865807 * 912773 * 938057 * 942901 * 950233 * 953297 * 978931 * 990281 * 1001797 * 1014649 * 1016599 * 1040483 * 1042961 * 1047491\n"
     ]
    }
   ],
   "source": [
    "print factor(group.order())"
   ]
  },
  {
   "cell_type": "code",
   "execution_count": 5,
   "metadata": {},
   "outputs": [],
   "source": [
    "factors = [u for (u, v) in list(factor(group.order()))]"
   ]
  },
  {
   "cell_type": "markdown",
   "metadata": {},
   "source": [
    "### Pohlig-Hellman\n",
    "\n",
    "Let's use the [Polhig-Hellman algorithm](https://en.wikipedia.org/wiki/Pohlig%E2%80%93Hellman_algorithm#The_general_algorithm) :"
   ]
  },
  {
   "cell_type": "code",
   "execution_count": 6,
   "metadata": {},
   "outputs": [],
   "source": [
    "x_mods = []\n",
    "ring = IntegerModRing(p)\n",
    "\n",
    "# Step 1\n",
    "for i, f in enumerate(factors):\n",
    "    # Substep 1\n",
    "    g_i = ring(power_mod(g, (p - 1) // f, p))\n",
    "    # Substep 2\n",
    "    h_i = ring(power_mod(X, (p - 1) // f, p))\n",
    "    # Substep 3\n",
    "    x_mods.append(discrete_log(h_i, g_i, f))\n",
    "# Step 2\n",
    "x = crt(x_mods, factors)"
   ]
  },
  {
   "cell_type": "code",
   "execution_count": 7,
   "metadata": {},
   "outputs": [
    {
     "name": "stdout",
     "output_type": "stream",
     "text": [
      "163195499106861376244878769783259974190355145685432720176478803699879434189098317339265133664241400195782368205346198430764939174533923102190120123236012806786104714539833763422451317381892\n"
     ]
    }
   ],
   "source": [
    "print Y.powermod(x, p)"
   ]
  }
 ],
 "metadata": {
  "kernelspec": {
   "display_name": "SageMath 8.2",
   "language": "",
   "name": "sagemath"
  },
  "language_info": {
   "codemirror_mode": {
    "name": "ipython",
    "version": 2
   },
   "file_extension": ".py",
   "mimetype": "text/x-python",
   "name": "python",
   "nbconvert_exporter": "python",
   "pygments_lexer": "ipython2",
   "version": "2.7.14"
  }
 },
 "nbformat": 4,
 "nbformat_minor": 2
}
