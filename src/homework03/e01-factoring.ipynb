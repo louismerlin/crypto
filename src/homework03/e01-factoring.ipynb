{
 "cells": [
  {
   "cell_type": "markdown",
   "metadata": {},
   "source": [
    "## Exercise 1 ~ Factoring by orders of elements"
   ]
  },
  {
   "cell_type": "code",
   "execution_count": 1,
   "metadata": {},
   "outputs": [],
   "source": [
    "# Get variable from parameters file\n",
    "import utils\n",
    "params = utils.get_parameters()"
   ]
  },
  {
   "cell_type": "code",
   "execution_count": 2,
   "metadata": {},
   "outputs": [],
   "source": [
    "k = params.Q1_k\n",
    "x = params.Q1_x\n",
    "N = params.Q1_N"
   ]
  },
  {
   "cell_type": "markdown",
   "metadata": {},
   "source": [
    "We know that\n",
    "- $N=p\\times q$, with $\\frac{p-1}{2}$ prime and $\\frac{q-1}{2}$ prime\n",
    "- $x\\in\\mathbb{Z}_N^*$\n",
    "- $k$ is the order of $x$ in either $\\mathbb{Z}_p^*$ or $\\mathbb{Z}_q^*$\n",
    "\n",
    "We have to find $p$ and $q$, and put the **smallest** of the two in the answer file."
   ]
  },
  {
   "cell_type": "markdown",
   "metadata": {},
   "source": [
    "Let's say that $k$ is the order of $x$ in $\\mathbb{Z}_p^*$.\n",
    "\n",
    "We know that $\\varphi(p)=p-1$ because $p$ is prime.\n",
    "\n",
    "We also know that $k$, being an order of a number in $\\mathbb{Z}_p^*$, has to be a factor of $\\varphi(p)$.\n",
    "\n",
    "We also know that $\\frac{p-1}{2}$ is prime.\n",
    "\n",
    "This means that\n",
    "- $k=2$ or\n",
    "- $k=p-1$ or\n",
    "- $k=\\frac{k-1}{2}$"
   ]
  },
  {
   "cell_type": "markdown",
   "metadata": {},
   "source": [
    "We can now very easily find $p$, because $k\\neq2$ :"
   ]
  },
  {
   "cell_type": "code",
   "execution_count": 3,
   "metadata": {},
   "outputs": [],
   "source": [
    "if is_prime(k + 1):\n",
    "    p = k + 1\n",
    "else:\n",
    "    p = k * 2 + 1"
   ]
  },
  {
   "cell_type": "markdown",
   "metadata": {},
   "source": [
    "Now that we have $p$, we can find $q$ :"
   ]
  },
  {
   "cell_type": "code",
   "execution_count": 4,
   "metadata": {},
   "outputs": [],
   "source": [
    "q = N // p"
   ]
  },
  {
   "cell_type": "markdown",
   "metadata": {},
   "source": [
    "We verify our assertions :"
   ]
  },
  {
   "cell_type": "code",
   "execution_count": 5,
   "metadata": {
    "scrolled": true
   },
   "outputs": [
    {
     "name": "stdout",
     "output_type": "stream",
     "text": [
      "True\n"
     ]
    }
   ],
   "source": [
    "print is_prime(p) and is_prime(q) and p * q == N"
   ]
  },
  {
   "cell_type": "markdown",
   "metadata": {},
   "source": [
    "And we print the smallest of the two"
   ]
  },
  {
   "cell_type": "code",
   "execution_count": 6,
   "metadata": {},
   "outputs": [
    {
     "name": "stdout",
     "output_type": "stream",
     "text": [
      "14479573000805883152954178569811189316969443659853631273008899\n"
     ]
    }
   ],
   "source": [
    "print min(p, q)"
   ]
  }
 ],
 "metadata": {
  "kernelspec": {
   "display_name": "SageMath 8.2",
   "language": "",
   "name": "sagemath"
  },
  "language_info": {
   "codemirror_mode": {
    "name": "ipython",
    "version": 2
   },
   "file_extension": ".py",
   "mimetype": "text/x-python",
   "name": "python",
   "nbconvert_exporter": "python",
   "pygments_lexer": "ipython2",
   "version": "2.7.14"
  }
 },
 "nbformat": 4,
 "nbformat_minor": 2
}
