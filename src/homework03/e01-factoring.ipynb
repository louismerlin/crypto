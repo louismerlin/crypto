{
 "cells": [
  {
   "cell_type": "markdown",
   "metadata": {},
   "source": [
    "## Exercise 1 ~ Factoring by orders of elements"
   ]
  },
  {
   "cell_type": "code",
   "execution_count": 1,
   "metadata": {},
   "outputs": [],
   "source": [
    "# Get variable from parameters file\n",
    "import utils\n",
    "params = utils.get_parameters()"
   ]
  },
  {
   "cell_type": "code",
   "execution_count": 5,
   "metadata": {},
   "outputs": [],
   "source": [
    "k = params.Q1_k\n",
    "x = params.Q1_x\n",
    "N = params.Q1_N"
   ]
  },
  {
   "cell_type": "markdown",
   "metadata": {},
   "source": [
    "We know that\n",
    "- $N=p\\times q$, with $\\frac{p-1}{2}$ prime and $\\frac{q-1}{2}$ prime\n",
    "- $x\\in\\mathbb{Z}_N$\n",
    "- $k$ is the order of $x$ in either $\\mathbb{Z}_p$ or $\\mathbb{Z}_q$\n",
    "\n",
    "We have to find $p$ and $q$, and put the **smallest** of the two in the answer file."
   ]
  },
  {
   "cell_type": "code",
   "execution_count": 9,
   "metadata": {},
   "outputs": [],
   "source": [
    "ring_mod_N = IntegerModRing(N)"
   ]
  },
  {
   "cell_type": "code",
   "execution_count": 10,
   "metadata": {},
   "outputs": [],
   "source": [
    "x_in_ring_mod_N = ring_mod_N(x)"
   ]
  },
  {
   "cell_type": "code",
   "execution_count": 16,
   "metadata": {},
   "outputs": [
    {
     "name": "stdout",
     "output_type": "stream",
     "text": [
      "541539559967824230920299820142310528836192135906824729115651276837833616019528417832311323621498048008540239184086085338957\n",
      "14479573000805883152954178569811189316969443659853631273008898\n",
      "11697426208835627069394939131870824985117916542051892360269447\n",
      "176524333642560989306914012704283975483747404837668698095272152681454089437212402349428806887578145664129206032864747382764\n"
     ]
    }
   ],
   "source": [
    "print N\n",
    "print k\n",
    "print x\n",
    "print x_in_ring_mod_N ** k"
   ]
  },
  {
   "cell_type": "code",
   "execution_count": null,
   "metadata": {},
   "outputs": [],
   "source": []
  }
 ],
 "metadata": {
  "kernelspec": {
   "display_name": "SageMath 8.2",
   "language": "",
   "name": "sagemath"
  },
  "language_info": {
   "codemirror_mode": {
    "name": "ipython",
    "version": 2
   },
   "file_extension": ".py",
   "mimetype": "text/x-python",
   "name": "python",
   "nbconvert_exporter": "python",
   "pygments_lexer": "ipython2",
   "version": "2.7.14"
  }
 },
 "nbformat": 4,
 "nbformat_minor": 2
}
