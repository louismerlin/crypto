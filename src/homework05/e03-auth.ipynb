{
 "cells": [
  {
   "cell_type": "markdown",
   "metadata": {},
   "source": [
    "## Exercise 3 ~ Interactive Password-based Authentication"
   ]
  },
  {
   "cell_type": "code",
   "execution_count": 1,
   "metadata": {},
   "outputs": [],
   "source": [
    "import socket\n",
    "import binascii\n",
    "import random\n",
    "import hashlib\n",
    "import base64\n",
    "from Crypto.Cipher import AES\n",
    "import utils\n",
    "# Get variable from parameters file\n",
    "params = utils.get_parameters()"
   ]
  },
  {
   "cell_type": "code",
   "execution_count": 2,
   "metadata": {},
   "outputs": [],
   "source": [
    "Q3_id = params.Q3_id"
   ]
  },
  {
   "cell_type": "code",
   "execution_count": 3,
   "metadata": {},
   "outputs": [
    {
     "name": "stdout",
     "output_type": "stream",
     "text": [
      "Mj8X8EEctVs0s3\n"
     ]
    }
   ],
   "source": [
    "print Q3_id"
   ]
  },
  {
   "cell_type": "code",
   "execution_count": 4,
   "metadata": {},
   "outputs": [],
   "source": [
    "# TEST ANSWER\n",
    "Q3_w = \"lT4%&fFiP[fHSB\""
   ]
  },
  {
   "cell_type": "code",
   "execution_count": 5,
   "metadata": {},
   "outputs": [],
   "source": [
    "server = None\n",
    "\n",
    "def send_message(message):\n",
    "    global server\n",
    "    server_name = \"lasecpc25.epfl.ch\"\n",
    "    port = \"7777\"\n",
    "    if server == None:\n",
    "        server = socket.create_connection((server_name, int(port)))\n",
    "    server.send(bytes(message + \"\\n\"))\n",
    "    response=\"\"\n",
    "    while True: #data might come in several packets, need to wait for all of it\n",
    "        data = server.recv(1024)\n",
    "        data = data.decode(\"ASCII\")\n",
    "        if len(data) == 0:\n",
    "            break\n",
    "        if data[-1] == '\\n': \n",
    "            response += data[:-1]  \n",
    "            break\n",
    "        response += data\n",
    "    return response\n",
    "\n",
    "def close_conn():\n",
    "    global server\n",
    "    if server != None:\n",
    "        server.close()\n",
    "        server = None"
   ]
  },
  {
   "cell_type": "code",
   "execution_count": 6,
   "metadata": {},
   "outputs": [],
   "source": [
    "def base64_to_bin(m, l=128):\n",
    "    return hex_to_bin(binascii.b2a_hex(binascii.a2b_base64(m)), l)\n",
    "\n",
    "def hex_to_bin(h, l=128):\n",
    "    return bin(int(h, 16))[2:].zfill(l)\n",
    "\n",
    "def bin_to_dat(b, l=32):\n",
    "    h = '%x' % int(b, 2)\n",
    "    return binascii.unhexlify(h.zfill(l))\n",
    "\n",
    "def bin_to_base64(b):\n",
    "    return base64.b64encode(bin_to_dat(b))\n",
    "    \n",
    "def xor(a, b):\n",
    "    c = \"\"\n",
    "    for i in range(len(a)):\n",
    "        if a[i] == b[i]:\n",
    "            c += \"0\"\n",
    "        else:\n",
    "            c += \"1\"\n",
    "    return c"
   ]
  },
  {
   "cell_type": "code",
   "execution_count": 7,
   "metadata": {},
   "outputs": [],
   "source": [
    "def exchange_part_1(i):\n",
    "    m_1 = ' ' * 128\n",
    "    while m_1[i] != '0':\n",
    "        close_conn()\n",
    "        m_1_b64 = send_message(Q3_id)\n",
    "        m_1 = base64_to_bin(m_1_b64)\n",
    "    return m_1\n",
    "    \n",
    "def create_m_0(i, bit, m_1):\n",
    "    k = None\n",
    "    m_0 = ' ' * 128\n",
    "    while k != i or m_0[i] != bit:\n",
    "        m_0 = ''.join([str(random.randrange(2)) for _ in range(128)])\n",
    "        to_hash = Q3_id + bin_to_dat(m_0) + bin_to_dat(m_1)\n",
    "        c = hex_to_bin(hashlib.sha512(to_hash).hexdigest(), 512)[:256]\n",
    "        k = int(c[0:8], 2) % 128\n",
    "    return m_0\n",
    "\n",
    "\n",
    "def exchange_part_2(m_0):\n",
    "    m_0_b64 = bin_to_base64(m_0)\n",
    "    ch_0 = send_message(m_0_b64)\n",
    "    ch_1 = send_message(ch_0)\n",
    "    return ch_0, ch_1"
   ]
  },
  {
   "cell_type": "code",
   "execution_count": 8,
   "metadata": {},
   "outputs": [],
   "source": [
    "s_0 = \"\"\n",
    "s_1 = \"\"\n",
    "\n",
    "i = 0\n",
    "while i < 128:\n",
    "    # Initiate the connection and get m_1\n",
    "    m_1 = exchange_part_1(i)\n",
    "    # Generate the m_0 needed to get a good c\n",
    "    m_0 = create_m_0(i, '0', m_1)\n",
    "    ch_0, ch_1 = exchange_part_2(m_0)\n",
    "    if ch_1 != 'abort':\n",
    "        s_0 += ch_0\n",
    "        s_1 += ch_0\n",
    "    else:\n",
    "        m_1 = exchange_part_1(i)\n",
    "        m_0 = create_m_0(i, '1', m_1)\n",
    "        ch_0_2, ch_1_2 = exchange_part_2(m_0)\n",
    "        s_0 += xor('1', ch_0_2)\n",
    "        s_1 += ch_0_2\n",
    "    i += 1"
   ]
  },
  {
   "cell_type": "code",
   "execution_count": 9,
   "metadata": {},
   "outputs": [
    {
     "name": "stdout",
     "output_type": "stream",
     "text": [
      "6Nqqagj:$^$tjx\u0000\u0000\n",
      "6Nqqagj:$^$tjx\u0000\u0000\n"
     ]
    }
   ],
   "source": [
    "aes_0 = AES.new(bin_to_dat('0' * 128))\n",
    "aes_1 = AES.new(bin_to_dat('1' * 128))\n",
    "\n",
    "print aes_0.decrypt(bin_to_dat(s_0))\n",
    "print aes_1.decrypt(bin_to_dat(s_1))"
   ]
  }
 ],
 "metadata": {
  "kernelspec": {
   "display_name": "SageMath 8.2",
   "language": "",
   "name": "sagemath"
  },
  "language_info": {
   "codemirror_mode": {
    "name": "ipython",
    "version": 2
   },
   "file_extension": ".py",
   "mimetype": "text/x-python",
   "name": "python",
   "nbconvert_exporter": "python",
   "pygments_lexer": "ipython2",
   "version": "2.7.14"
  }
 },
 "nbformat": 4,
 "nbformat_minor": 2
}
