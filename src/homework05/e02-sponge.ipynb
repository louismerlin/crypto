{
 "cells": [
  {
   "cell_type": "markdown",
   "metadata": {},
   "source": [
    "## Exercise 2 ~ SHA2 Sponge"
   ]
  },
  {
   "cell_type": "code",
   "execution_count": 1,
   "metadata": {},
   "outputs": [],
   "source": [
    "import hashlib\n",
    "import binascii\n",
    "import utils\n",
    "# Get variable from parameters file\n",
    "# TEST PARAMETERS\n",
    "params = utils.get_parameters()"
   ]
  },
  {
   "cell_type": "code",
   "execution_count": 2,
   "metadata": {},
   "outputs": [],
   "source": [
    "r = params.Q2_r\n",
    "c = params.Q2_c\n",
    "d = params.Q2_d\n",
    "m = params.Q2_m"
   ]
  },
  {
   "cell_type": "code",
   "execution_count": 3,
   "metadata": {},
   "outputs": [],
   "source": [
    "# Test answer\n",
    "# Q2_h = \"kKJn3mR4kHm3paeHT1LxkNfo0y0WtJuL8oaMJNHtN10H9iEsWNv/1x1XyzRgPJaTRW2n9nSA44lrslfZlcVOOQonj0SVtXVrn045cuFefBvY4Kg1\""
   ]
  },
  {
   "cell_type": "code",
   "execution_count": 4,
   "metadata": {},
   "outputs": [
    {
     "name": "stdout",
     "output_type": "stream",
     "text": [
      "160\n"
     ]
    }
   ],
   "source": [
    "print r"
   ]
  },
  {
   "cell_type": "code",
   "execution_count": 5,
   "metadata": {},
   "outputs": [
    {
     "name": "stdout",
     "output_type": "stream",
     "text": [
      "352\n"
     ]
    }
   ],
   "source": [
    "print c"
   ]
  },
  {
   "cell_type": "code",
   "execution_count": 6,
   "metadata": {},
   "outputs": [
    {
     "name": "stdout",
     "output_type": "stream",
     "text": [
      "800\n"
     ]
    }
   ],
   "source": [
    "print d"
   ]
  },
  {
   "cell_type": "code",
   "execution_count": 7,
   "metadata": {},
   "outputs": [
    {
     "name": "stdout",
     "output_type": "stream",
     "text": [
      "HHR+oU6FRTyxVqGkGFs06nAtUG86uM0j0Klj1PLNaogQJT6l6D0ZYPTNx3Ra4UqKb5AGSSQl2ba3UM8nzfWJJ/bkrx7PZJZVgvTu7rH8hymYWa2qhY00Ckm3euXUY9dYMPTpEhFSqCX7p1DTTBHEcIqd8SLwzVX48uVoaoakby25H2mZqzEKBugSxuOmNgmXzVjLmVcJ0wUwJDHYdrPkbjaY8dDO7V6HP9TTAPGXBlCLJMUTCrw3/ngKhTrsbUNwUYX0UxN4+zqbqvXX+QGLuMnocYVoTt8Nh4t6IUoCQRbp22rzAfglqrUs44K01w4bnDiqNUUaBkeh9pP7J81orsmvqpupHYhhfzOsN9DYEJqQVb6R3zRT2XgrXia9mkka78qE4/2fY+F/4MgVQ9IUdI4dyOTb6WsKQW/yuEHivSyD2TwVwWshIcyVa1AafHW8unUo4Oee9+ItU7vMjgmmhRx3OUtCTrkU4u0bl6c6L26EbwJ+tuPsDwzlbfrosNVUAIk1Av/oVGV1KgphLdbYkkRa8sBDtOAVC6dxzMhd3otFPNnkxgtz6cTt5xD7fT0TABhR54e02wI5XCa7OAh+9y2MhNXUgZDmt7QqJ5FnjWkA15Rd1sGIV5NRnOWnSQ/kpyq/CxKnIZ/PiiinGOw/A6tnaVZ/vCx7ZYfKK4vXP+STzD+0mu2Nz8fOz53DF2XYqQxRjOxC53r8GkyDJKypUW1aomWG1zBYQji+f1U+REmNYjn55+qHAPvk+dtEZXvFyw3Omt9/n/vSD6AV0j0GV4SA/KMl7rheBB6mFCayYA3YN/b1OSXx2LFCXBXQLYj0ghZIAE1Ah8G5Mi6gLgxUudwoolxloZ74AQBF59QE2vg48XLU5B0wIywkEZjGz6SoJ+hzhsF3+GDtlf+suFUCxyBnt1aUrr8pNBquSy70cK0Ryy9TEwk+ezLR9xXnlchgeTyWD1SNCxHq0ZfolIuVSJFJ6EesNKTXiZERdCZ5fjjdeCha43c48GTdjD9xcIN1/1UTbc9WKifjy5ye9IooaPLPD3zijvZ3VSwPfQDJnVzW9TiMbNbG/fIUwxkXiC5S5jaHGpsby+4csopRc8W5t0WwoP50cmY36biESPij22aa41N3fziUOxpW+vWntHf6F7u9hfzmdTvSKHiRJSCq4n04Vj+Kf0B/QPmj1RzBgymydP213WuMec2X43YQCwKoFqVxevhiSlWPviGPAb2d2OIZRGF6WdReAc3WoGbHv4zpavyk53mXUBF6bsS9AZdNDQ/Q5lhvjoFxICFQJijxrGRWkVPUTcmnIQrocXX4x6AI48cbfXSkBUKEtHrDYDsQOWlW7cHQ6ZTopG1snkzCDcm30Nt0JDpttBJ1pKFYzkA1amOSx9HxM5qhk1gfyVLhRw==\n"
     ]
    }
   ],
   "source": [
    "print m"
   ]
  },
  {
   "cell_type": "code",
   "execution_count": 8,
   "metadata": {},
   "outputs": [],
   "source": [
    "def base64_to_bin(m):\n",
    "    return hex_to_bin(binascii.b2a_hex(binascii.a2b_base64(m)))\n",
    "\n",
    "def hex_to_bin(h):\n",
    "    return bin(int(h, 16))[2:].zfill(512)\n",
    "\n",
    "def bin_to_dat(b):\n",
    "    h = '%x' % int(b, 2)\n",
    "    return binascii.unhexlify(h.zfill(128))\n",
    "    \n",
    "def xor(a, b):\n",
    "    c = \"\"\n",
    "    for i in range(len(a)):\n",
    "        if a[i] == b[i]:\n",
    "            c += \"0\"\n",
    "        else:\n",
    "            c += \"1\"\n",
    "    return c"
   ]
  },
  {
   "cell_type": "code",
   "execution_count": 9,
   "metadata": {},
   "outputs": [
    {
     "name": "stdout",
     "output_type": "stream",
     "text": [
      "uFZulVfJCpgUeyt8sf5hJGQDmLmhlPck0pOOcpVmPWic82657VYLtliFK6tdRR7xdTMoRzsn+25J/L+pxdbzxQ1DX83q/6gvn69soJWEG4lBs+AvxEFw/HC0mBtflTStWBC0GQ==\n"
     ]
    }
   ],
   "source": [
    "def sha2_sponge(r, c, d, m):\n",
    "    hash_method = hashlib.sha512\n",
    "    m += \"101\" + \"0\" * ((-(len(m)+4)) % r) + \"1\"\n",
    "    s = \"0\" * (r + c)\n",
    "    for i in range(len(m) / r):\n",
    "        s = hex_to_bin(hash_method(bin_to_dat(xor(s, m[i * r:(i + 1) * r] + \"0\" * c))).hexdigest())\n",
    "    h = \"\"\n",
    "    for _ in range(d / r):\n",
    "        h += s[0:r]\n",
    "        s = hex_to_bin(hash_method(bin_to_dat(s)).hexdigest())\n",
    "    if d % r != 0:\n",
    "        h += s[0:d % r - 1]\n",
    "    return h\n",
    "\n",
    "m_bin = base64_to_bin(m)\n",
    "\n",
    "h_bin = sha2_sponge(r, c, d, m_bin)\n",
    "\n",
    "h = binascii.b2a_base64(bin_to_dat(h_bin))[:-1] # The -1 is because there is a newline at the end for some reason\n",
    "\n",
    "print h"
   ]
  },
  {
   "cell_type": "code",
   "execution_count": null,
   "metadata": {},
   "outputs": [],
   "source": []
  }
 ],
 "metadata": {
  "kernelspec": {
   "display_name": "SageMath 8.2",
   "language": "",
   "name": "sagemath"
  },
  "language_info": {
   "codemirror_mode": {
    "name": "ipython",
    "version": 2
   },
   "file_extension": ".py",
   "mimetype": "text/x-python",
   "name": "python",
   "nbconvert_exporter": "python",
   "pygments_lexer": "ipython2",
   "version": "2.7.14"
  }
 },
 "nbformat": 4,
 "nbformat_minor": 2
}
