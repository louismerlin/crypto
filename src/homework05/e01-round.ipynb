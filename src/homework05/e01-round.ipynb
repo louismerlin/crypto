{
 "cells": [
  {
   "cell_type": "markdown",
   "metadata": {},
   "source": [
    "## Exercise 1 ~ A full round trip? Ain’t nobody got time for that!"
   ]
  },
  {
   "cell_type": "code",
   "execution_count": 1,
   "metadata": {},
   "outputs": [],
   "source": [
    "import socket\n",
    "import hashlib\n",
    "import binascii\n",
    "import utils\n",
    "# Get variable from parameters file\n",
    "params = utils.get_parameters()"
   ]
  },
  {
   "cell_type": "code",
   "execution_count": 2,
   "metadata": {},
   "outputs": [],
   "source": [
    "p = params.Q1_p\n",
    "q = params.Q1_q\n",
    "g = params.Q1_g\n",
    "pk = params.Q1_pk\n",
    "sk = params.Q1_sk"
   ]
  },
  {
   "cell_type": "code",
   "execution_count": 3,
   "metadata": {},
   "outputs": [
    {
     "name": "stdout",
     "output_type": "stream",
     "text": [
      "60055542378743800870984650064300434749863701922850044406431317093041369825985827433749546393895540449652025734272324325766218491281694238130722173393183483885437811760557394111938168661132034686043294099496516186034464224769515668824134222379411213622533288466031472830765575070050471211910512309277394625511039608604466794511486442978890755447340853298788925954132849494246405952766545954686681263626373302433301707202080315167178326221865198357311916159655281789965111665708959524382410794912853864178879967461309707005917351897844330144906695159023225938171656971885521551778839866449272779226789329\n"
     ]
    }
   ],
   "source": [
    "print p"
   ]
  },
  {
   "cell_type": "code",
   "execution_count": 4,
   "metadata": {},
   "outputs": [
    {
     "name": "stdout",
     "output_type": "stream",
     "text": [
      "946369383149503913097499114667945567529167788584664587545246699802207806093\n"
     ]
    }
   ],
   "source": [
    "print q"
   ]
  },
  {
   "cell_type": "code",
   "execution_count": 5,
   "metadata": {},
   "outputs": [
    {
     "name": "stdout",
     "output_type": "stream",
     "text": [
      "22493437217519503842042074486862187182867236296232324847042667312311970684978888420271944247698412501149798133622445424915931079950752980864405692539831020246953893352433357520362036811397373869313049949339622279744263417333262727784136625059611007301281594242808226739999769715591223297216365080543802674283076625008089439983472611892820555332588466330669644978677276389400870722474404883111442691947196879407967650259989043439266848164547113521977979571296250750760221388613710711549516681789079332853324508231151989505119703100522561290674805773702857445297920694801675555969359295881697509797401703\n"
     ]
    }
   ],
   "source": [
    "print g"
   ]
  },
  {
   "cell_type": "code",
   "execution_count": 6,
   "metadata": {},
   "outputs": [
    {
     "name": "stdout",
     "output_type": "stream",
     "text": [
      "14756448914390602869910211060015458444881608441611746640037742789207089044306375571534720691481804676330815806912646756382029857169292655819657909765587412374312476546703616935804401538679605879713514445214373592817294444138692615283642233174762126785417450490574765976150068579610840190825798712569306850505863845265195678018800439728480653487717038149046357211022379343160776731995216744010536204571885920381738544950320830710846338259627881671060097684057708632933637733249470867478433938592565039355267389976999560888386203097632782135850143539530764774290521841539013884252348919732554825131183394\n"
     ]
    }
   ],
   "source": [
    "print pk"
   ]
  },
  {
   "cell_type": "code",
   "execution_count": 7,
   "metadata": {},
   "outputs": [
    {
     "name": "stdout",
     "output_type": "stream",
     "text": [
      "842686782033015526616049802372041293120901487222997733015409592779893766009\n"
     ]
    }
   ],
   "source": [
    "print sk"
   ]
  },
  {
   "cell_type": "code",
   "execution_count": 8,
   "metadata": {},
   "outputs": [],
   "source": [
    "def connect_server(server_name, port, message):\n",
    "    server = (server_name, int(port)) #calling int is required when using Sage\n",
    "    s = socket.create_connection(server)\n",
    "    s.send(bytes(message + \"\\n\"))\n",
    "    response=\"\"\n",
    "    while True: #data might come in several packets, need to wait for all of it\n",
    "        data = s.recv(1024)\n",
    "        data = data.decode(\"ASCII\")\n",
    "        if len(data) == 0:\n",
    "            break\n",
    "        if data[-1] == '\\n': \n",
    "            response += data[:-1]  \n",
    "            break\n",
    "        response += data\n",
    "    s.close()\n",
    "    return response\n",
    "\n",
    "\n",
    "def oracle_query(sciper):\n",
    "    server_name = \"lasecpc25.epfl.ch\"\n",
    "    port = \"5559\"\n",
    "    message = sciper \n",
    "    response = connect_server(server_name, port, message)\n",
    "    #print(response)\n",
    "    return response\n",
    "\n",
    "# Returns a binary oracle_query\n",
    "def bin_query():\n",
    "    return bin(int(oracle_query(\"247565\"), 16))[2:].zfill(16752)"
   ]
  },
  {
   "cell_type": "code",
   "execution_count": 9,
   "metadata": {},
   "outputs": [
    {
     "name": "stdout",
     "output_type": "stream",
     "text": [
      "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\n"
     ]
    }
   ],
   "source": [
    "print oracle_query(\"247565\")"
   ]
  },
  {
   "cell_type": "markdown",
   "metadata": {},
   "source": [
    "- iterate over the blocks (2000 mixed with 256) of the query and find the value $a$ for which $a^q=1\\textrm{ mod }p$ and $a!=1\\textrm{ mod }p$ => $a$ is $X_0$.\n",
    "- Once we have $X_0$, we can find $pk^{x_0}$ with $X_0^{sk}$\n",
    "- Then, we try to decrypt the blocks with the St values we compute\n",
    "- We find the block with *password*"
   ]
  },
  {
   "cell_type": "code",
   "execution_count": 56,
   "metadata": {},
   "outputs": [],
   "source": [
    "def encode(a, n=256):\n",
    "    x = bin(a)[2:].zfill(n)\n",
    "    return x[-n:]\n",
    "\n",
    "def kdf(st):\n",
    "    hex_value = hex(int(st, 2))[2:]\n",
    "    if hex_value[-1] == 'L':\n",
    "        hex_value = hex_value[:-1]\n",
    "    hex_value = hex_value.zfill(64)\n",
    "    k_to_hash = binascii.unhexlify(\"00\" + hex_value)\n",
    "    s_to_hash = binascii.unhexlify(\"ff\" + hex_value)\n",
    "    k = bin(int(hashlib.sha256(k_to_hash).hexdigest(), 16))[2:].zfill(256)\n",
    "    s = bin(int(hashlib.sha256(s_to_hash).hexdigest(), 16))[2:].zfill(256)\n",
    "    return s, k\n",
    "\n",
    "def xor(a, b):\n",
    "    c = ''\n",
    "    for i in range(len(a)):\n",
    "        if a[i] == b[i]:\n",
    "            c += '0'\n",
    "        else:\n",
    "            c += '1'\n",
    "    return c"
   ]
  },
  {
   "cell_type": "code",
   "execution_count": 60,
   "metadata": {},
   "outputs": [
    {
     "name": "stdout",
     "output_type": "stream",
     "text": [
      ".com&password=qmK-GnH-6WM-bgo&ti\n"
     ]
    }
   ],
   "source": [
    "result = ''\n",
    "\n",
    "while result == '':\n",
    "    query = bin_query()\n",
    "    integers = []\n",
    "    blocks = []\n",
    "    check = 0\n",
    "    while len(integers) < 3:\n",
    "        if check + 2000 > len(query):\n",
    "            break\n",
    "        X = int(query[check:check+2000], 2)\n",
    "        if power_mod(X, q, p) == 1:\n",
    "            integers.append(X)\n",
    "            check += 2000\n",
    "        else:\n",
    "            blocks.append(query[check:check+256])\n",
    "            check += 256\n",
    "    for i in integers:\n",
    "        St = encode(power_mod(i, sk, p))\n",
    "        for _ in range(len(blocks)):\n",
    "            St, ki = kdf(St)\n",
    "            for block in blocks:\n",
    "                m = xor(block, ki)\n",
    "                n = int(m, 2)\n",
    "                try:\n",
    "                    s = binascii.unhexlify('%x' % n)\n",
    "                    if s.find(\"password\") != -1:\n",
    "                        result = s\n",
    "                except:\n",
    "                    ''\n",
    "\n",
    "print result"
   ]
  },
  {
   "cell_type": "code",
   "execution_count": null,
   "metadata": {},
   "outputs": [],
   "source": []
  }
 ],
 "metadata": {
  "kernelspec": {
   "display_name": "SageMath 8.2",
   "language": "",
   "name": "sagemath"
  },
  "language_info": {
   "codemirror_mode": {
    "name": "ipython",
    "version": 2
   },
   "file_extension": ".py",
   "mimetype": "text/x-python",
   "name": "python",
   "nbconvert_exporter": "python",
   "pygments_lexer": "ipython2",
   "version": "2.7.14"
  }
 },
 "nbformat": 4,
 "nbformat_minor": 2
}
