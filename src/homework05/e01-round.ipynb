{
 "cells": [
  {
   "cell_type": "markdown",
   "metadata": {},
   "source": [
    "## Exercise 1 ~ A full round trip? Ain’t nobody got time for that!"
   ]
  },
  {
   "cell_type": "code",
   "execution_count": 1,
   "metadata": {},
   "outputs": [],
   "source": [
    "import socket"
   ]
  },
  {
   "cell_type": "code",
   "execution_count": 2,
   "metadata": {},
   "outputs": [],
   "source": [
    "def connect_server(server_name, port, message):\n",
    "    server = (server_name, int(port)) #calling int is required when using Sage\n",
    "    s = socket.create_connection(server)\n",
    "    s.send(bytes(message + \"\\n\"))\n",
    "    response=\"\"\n",
    "    while True: #data might come in several packets, need to wait for all of it\n",
    "        data = s.recv(1024)\n",
    "        data = data.decode(\"ASCII\")\n",
    "        if len(data) == 0:\n",
    "            break\n",
    "        if data[-1] == '\\n': \n",
    "            response += data[:-1]  \n",
    "            break\n",
    "        response += data\n",
    "    s.close()\n",
    "    return response\n",
    "\n",
    "\n",
    "def oracle_query(sciper):\n",
    "    server_name = \"lasecpc25.epfl.ch\"\n",
    "    port = \"5559\"\n",
    "    message = sciper \n",
    "    response = connect_server(server_name, port, message)\n",
    "    #print(response)\n",
    "    return response"
   ]
  },
  {
   "cell_type": "code",
   "execution_count": 4,
   "metadata": {},
   "outputs": [
    {
     "name": "stdout",
     "output_type": "stream",
     "text": [
      "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\n"
     ]
    }
   ],
   "source": [
    "print oracle_query(\"247565\")"
   ]
  },
  {
   "cell_type": "code",
   "execution_count": null,
   "metadata": {},
   "outputs": [],
   "source": []
  }
 ],
 "metadata": {
  "kernelspec": {
   "display_name": "SageMath 8.2",
   "language": "",
   "name": "sagemath"
  },
  "language_info": {
   "codemirror_mode": {
    "name": "ipython",
    "version": 2
   },
   "file_extension": ".py",
   "mimetype": "text/x-python",
   "name": "python",
   "nbconvert_exporter": "python",
   "pygments_lexer": "ipython2",
   "version": "2.7.14"
  }
 },
 "nbformat": 4,
 "nbformat_minor": 2
}
